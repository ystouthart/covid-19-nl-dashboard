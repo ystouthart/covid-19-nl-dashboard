{
 "metadata": {
  "language_info": {
   "codemirror_mode": {
    "name": "ipython",
    "version": 3
   },
   "file_extension": ".py",
   "mimetype": "text/x-python",
   "name": "python",
   "nbconvert_exporter": "python",
   "pygments_lexer": "ipython3",
   "version": "3.8.5-final"
  },
  "orig_nbformat": 2,
  "kernelspec": {
   "name": "python3",
   "display_name": "Python 3"
  }
 },
 "nbformat": 4,
 "nbformat_minor": 2,
 "cells": [
  {
   "source": [
    "# Changing Music Preferences\n",
    "### Do Spotify users listen to different music during the COVID-19 pandemic? \n",
    "### Does this relate to the amount of confirmed cases?\n",
    "\n",
    "To Do: \n",
    "\n",
    "1. Scraping Spotify Top 200 data\n",
    "2. Get song metadata through Spotify API\n",
    "3. Data Visualization & Modelling\n",
    "4. .....\n",
    "5. Create interactive dashboard in Shiny\n"
   ],
   "cell_type": "markdown",
   "metadata": {}
  },
  {
   "source": [
    "## 1.\n",
    "## Scraping the Top 200 data for 2019 (baseline) and 2020 (pandemic).\n",
    "\n",
    "https://spotifycharts.com contains the official Spotify Charts. \n",
    "\n",
    "Luckily, each day/week is available as a .csv file!\n",
    "<br> <br> <br>\n",
    "**Goal: get all the weekly .csv files from 2019 and 2020 and combine them to one.**"
   ],
   "cell_type": "markdown",
   "metadata": {}
  },
  {
   "cell_type": "code",
   "execution_count": 2,
   "metadata": {},
   "outputs": [],
   "source": [
    "import pandas as pd\n",
    "import numpy as np\n",
    "from tqdm import tqdm\n",
    "import requests\n",
    "from bs4 import BeautifulSoup\n",
    "import io"
   ]
  },
  {
   "cell_type": "code",
   "execution_count": 3,
   "metadata": {},
   "outputs": [],
   "source": [
    "url = 'https://spotifycharts.com/regional/nl/weekly/latest'\n",
    "\n",
    "r = requests.get(url)\n",
    "\n",
    "soup = BeautifulSoup(r.content, 'html.parser')"
   ]
  },
  {
   "cell_type": "code",
   "execution_count": 4,
   "metadata": {},
   "outputs": [
    {
     "output_type": "execute_result",
     "data": {
      "text/plain": [
       "['2020-10-30--2020-11-06',\n",
       " '2020-10-23--2020-10-30',\n",
       " '2020-10-16--2020-10-23',\n",
       " '2020-10-09--2020-10-16',\n",
       " '2020-10-02--2020-10-09']"
      ]
     },
     "metadata": {},
     "execution_count": 4
    }
   ],
   "source": [
    "dates = [item[\"data-value\"] for item in soup.find_all(attrs={\"data-value\": True}) if item[\"data-value\"].startswith('2')]\n",
    "dates[:5]"
   ]
  },
  {
   "cell_type": "code",
   "execution_count": 5,
   "metadata": {},
   "outputs": [
    {
     "output_type": "execute_result",
     "data": {
      "text/plain": [
       "['https://spotifycharts.com/regional/nl/weekly/2020-10-30--2020-11-06/download',\n",
       " 'https://spotifycharts.com/regional/nl/weekly/2020-10-23--2020-10-30/download',\n",
       " 'https://spotifycharts.com/regional/nl/weekly/2020-10-16--2020-10-23/download',\n",
       " 'https://spotifycharts.com/regional/nl/weekly/2020-10-09--2020-10-16/download',\n",
       " 'https://spotifycharts.com/regional/nl/weekly/2020-10-02--2020-10-09/download']"
      ]
     },
     "metadata": {},
     "execution_count": 5
    }
   ],
   "source": [
    "urls = [\"https://spotifycharts.com/regional/nl/weekly/\" + date + \"/download\" for date in dates]\n",
    "urls[:5]"
   ]
  },
  {
   "source": [
    "### Warning: running the block below will result in scraping 200 .csv's!"
   ],
   "cell_type": "markdown",
   "metadata": {}
  },
  {
   "cell_type": "code",
   "execution_count": null,
   "metadata": {},
   "outputs": [],
   "source": [
    "data = []\n",
    "\n",
    "for date in tqdm(dates): \n",
    "    url = \"https://spotifycharts.com/regional/nl/weekly/\" + date + \"/download\"\n",
    "    response = requests.get(url)\n",
    "    file_object = io.StringIO(response.content.decode('utf-8'))\n",
    "    df = pd.read_csv(file_object, header=1)\n",
    "    df[\"Date\"] = date\n",
    "    data.append(df)\n",
    "\n",
    "df = pd.concat(data)\n",
    "df.reset_index(drop=True, inplace=True)\n",
    "df.to_csv(\"..\\\\data\\\\raw\\\\top200_2017_2020.csv\", index=False)\n",
    "data = []"
   ]
  },
  {
   "cell_type": "code",
   "execution_count": 6,
   "metadata": {},
   "outputs": [
    {
     "output_type": "execute_result",
     "data": {
      "text/plain": [
       "       Position                                      Track Name  \\\n",
       "0             1                                         Scooter   \n",
       "1             2                          Mood (feat. iann dior)   \n",
       "2             3       Lemonade (feat. Gunna, Don Toliver & NAV)   \n",
       "3             4                      Lonely (with benny blanco)   \n",
       "4             5                       Head & Heart (feat. MNEK)   \n",
       "...         ...                                             ...   \n",
       "40195       196                                             Sex   \n",
       "40196       197                                  Ain't My Fault   \n",
       "40197       198                  Please Come Home for Christmas   \n",
       "40198       199  Jodge Me Niet - Titelsong Van De Film “SOOF 2”   \n",
       "40199       200           Kom Dichterbij Me (met Broederliefde)   \n",
       "\n",
       "                Artist  Streams  \\\n",
       "0              Yssi SB  2375687   \n",
       "1             24kGoldn  1614485   \n",
       "2       Internet Money  1429665   \n",
       "3        Justin Bieber  1330793   \n",
       "4           Joel Corry  1271413   \n",
       "...                ...      ...   \n",
       "40195      Cheat Codes   114030   \n",
       "40196     Zara Larsson   113974   \n",
       "40197  Luther Vandross   113779   \n",
       "40198             Jayh   113763   \n",
       "40199         Jan Smit   113720   \n",
       "\n",
       "                                                     URL  \\\n",
       "0      https://open.spotify.com/track/4eWeOwo0TB0vkdr...   \n",
       "1      https://open.spotify.com/track/3tjFYV6RSFtuktY...   \n",
       "2      https://open.spotify.com/track/7hxHWCCAIIxFLCz...   \n",
       "3      https://open.spotify.com/track/4y4spB9m0Q6026K...   \n",
       "4      https://open.spotify.com/track/6cx06DFPPHchuUA...   \n",
       "...                                                  ...   \n",
       "40195  https://open.spotify.com/track/5DA77EqppDmCTWG...   \n",
       "40196  https://open.spotify.com/track/0ADG9OgdVTL7fgR...   \n",
       "40197  https://open.spotify.com/track/2mOtx6P21hecOcP...   \n",
       "40198  https://open.spotify.com/track/2VxAfqI3vIOaPSl...   \n",
       "40199  https://open.spotify.com/track/1QdKAO1nlkmECl3...   \n",
       "\n",
       "                         Date  \n",
       "0      2020-10-23--2020-10-30  \n",
       "1      2020-10-23--2020-10-30  \n",
       "2      2020-10-23--2020-10-30  \n",
       "3      2020-10-23--2020-10-30  \n",
       "4      2020-10-23--2020-10-30  \n",
       "...                       ...  \n",
       "40195  2016-12-23--2016-12-30  \n",
       "40196  2016-12-23--2016-12-30  \n",
       "40197  2016-12-23--2016-12-30  \n",
       "40198  2016-12-23--2016-12-30  \n",
       "40199  2016-12-23--2016-12-30  \n",
       "\n",
       "[40200 rows x 6 columns]"
      ],
      "text/html": "<div>\n<style scoped>\n    .dataframe tbody tr th:only-of-type {\n        vertical-align: middle;\n    }\n\n    .dataframe tbody tr th {\n        vertical-align: top;\n    }\n\n    .dataframe thead th {\n        text-align: right;\n    }\n</style>\n<table border=\"1\" class=\"dataframe\">\n  <thead>\n    <tr style=\"text-align: right;\">\n      <th></th>\n      <th>Position</th>\n      <th>Track Name</th>\n      <th>Artist</th>\n      <th>Streams</th>\n      <th>URL</th>\n      <th>Date</th>\n    </tr>\n  </thead>\n  <tbody>\n    <tr>\n      <th>0</th>\n      <td>1</td>\n      <td>Scooter</td>\n      <td>Yssi SB</td>\n      <td>2375687</td>\n      <td>https://open.spotify.com/track/4eWeOwo0TB0vkdr...</td>\n      <td>2020-10-23--2020-10-30</td>\n    </tr>\n    <tr>\n      <th>1</th>\n      <td>2</td>\n      <td>Mood (feat. iann dior)</td>\n      <td>24kGoldn</td>\n      <td>1614485</td>\n      <td>https://open.spotify.com/track/3tjFYV6RSFtuktY...</td>\n      <td>2020-10-23--2020-10-30</td>\n    </tr>\n    <tr>\n      <th>2</th>\n      <td>3</td>\n      <td>Lemonade (feat. Gunna, Don Toliver &amp; NAV)</td>\n      <td>Internet Money</td>\n      <td>1429665</td>\n      <td>https://open.spotify.com/track/7hxHWCCAIIxFLCz...</td>\n      <td>2020-10-23--2020-10-30</td>\n    </tr>\n    <tr>\n      <th>3</th>\n      <td>4</td>\n      <td>Lonely (with benny blanco)</td>\n      <td>Justin Bieber</td>\n      <td>1330793</td>\n      <td>https://open.spotify.com/track/4y4spB9m0Q6026K...</td>\n      <td>2020-10-23--2020-10-30</td>\n    </tr>\n    <tr>\n      <th>4</th>\n      <td>5</td>\n      <td>Head &amp; Heart (feat. MNEK)</td>\n      <td>Joel Corry</td>\n      <td>1271413</td>\n      <td>https://open.spotify.com/track/6cx06DFPPHchuUA...</td>\n      <td>2020-10-23--2020-10-30</td>\n    </tr>\n    <tr>\n      <th>...</th>\n      <td>...</td>\n      <td>...</td>\n      <td>...</td>\n      <td>...</td>\n      <td>...</td>\n      <td>...</td>\n    </tr>\n    <tr>\n      <th>40195</th>\n      <td>196</td>\n      <td>Sex</td>\n      <td>Cheat Codes</td>\n      <td>114030</td>\n      <td>https://open.spotify.com/track/5DA77EqppDmCTWG...</td>\n      <td>2016-12-23--2016-12-30</td>\n    </tr>\n    <tr>\n      <th>40196</th>\n      <td>197</td>\n      <td>Ain't My Fault</td>\n      <td>Zara Larsson</td>\n      <td>113974</td>\n      <td>https://open.spotify.com/track/0ADG9OgdVTL7fgR...</td>\n      <td>2016-12-23--2016-12-30</td>\n    </tr>\n    <tr>\n      <th>40197</th>\n      <td>198</td>\n      <td>Please Come Home for Christmas</td>\n      <td>Luther Vandross</td>\n      <td>113779</td>\n      <td>https://open.spotify.com/track/2mOtx6P21hecOcP...</td>\n      <td>2016-12-23--2016-12-30</td>\n    </tr>\n    <tr>\n      <th>40198</th>\n      <td>199</td>\n      <td>Jodge Me Niet - Titelsong Van De Film “SOOF 2”</td>\n      <td>Jayh</td>\n      <td>113763</td>\n      <td>https://open.spotify.com/track/2VxAfqI3vIOaPSl...</td>\n      <td>2016-12-23--2016-12-30</td>\n    </tr>\n    <tr>\n      <th>40199</th>\n      <td>200</td>\n      <td>Kom Dichterbij Me (met Broederliefde)</td>\n      <td>Jan Smit</td>\n      <td>113720</td>\n      <td>https://open.spotify.com/track/1QdKAO1nlkmECl3...</td>\n      <td>2016-12-23--2016-12-30</td>\n    </tr>\n  </tbody>\n</table>\n<p>40200 rows × 6 columns</p>\n</div>"
     },
     "metadata": {},
     "execution_count": 6
    }
   ],
   "source": [
    "df = pd.read_csv(\"..\\\\data\\\\raw\\\\top200_2017_2020.csv\")\n",
    "df"
   ]
  },
  {
   "cell_type": "code",
   "execution_count": 7,
   "metadata": {},
   "outputs": [
    {
     "output_type": "stream",
     "name": "stdout",
     "text": [
      "Position      0\nTrack Name    7\nArtist        7\nStreams       0\nURL           2\nDate          0\ndtype: int64\n"
     ]
    }
   ],
   "source": [
    "print(df.isna().sum())\n",
    "df.dropna(inplace=True) # removing 8 rows out of 40k is justified\n",
    "\n",
    "df[['Start Week', 'End Week']] = df['Date'].str.split('--', 1, expand=True) # add columns for start and end dates\n",
    "df['ID'] = df['URL'].str.rsplit('https://open.spotify.com/track/', 1, expand=True)[1] # add ID column for later merge\n",
    "\n",
    "df.to_csv(\"..\\\\data\\\\processed\\\\top200_2017_2020.csv\", index=False)"
   ]
  },
  {
   "cell_type": "code",
   "execution_count": 8,
   "metadata": {},
   "outputs": [
    {
     "output_type": "execute_result",
     "data": {
      "text/plain": [
       "   Position                                 Track Name          Artist  \\\n",
       "0         1                                    Scooter         Yssi SB   \n",
       "1         2                     Mood (feat. iann dior)        24kGoldn   \n",
       "2         3  Lemonade (feat. Gunna, Don Toliver & NAV)  Internet Money   \n",
       "3         4                 Lonely (with benny blanco)   Justin Bieber   \n",
       "4         5                  Head & Heart (feat. MNEK)      Joel Corry   \n",
       "\n",
       "   Streams                                                URL  \\\n",
       "0  2375687  https://open.spotify.com/track/4eWeOwo0TB0vkdr...   \n",
       "1  1614485  https://open.spotify.com/track/3tjFYV6RSFtuktY...   \n",
       "2  1429665  https://open.spotify.com/track/7hxHWCCAIIxFLCz...   \n",
       "3  1330793  https://open.spotify.com/track/4y4spB9m0Q6026K...   \n",
       "4  1271413  https://open.spotify.com/track/6cx06DFPPHchuUA...   \n",
       "\n",
       "                     Date  Start Week    End Week                      ID  \n",
       "0  2020-10-23--2020-10-30  2020-10-23  2020-10-30  4eWeOwo0TB0vkdrUhy4zbM  \n",
       "1  2020-10-23--2020-10-30  2020-10-23  2020-10-30  3tjFYV6RSFtuktYl3ZtYcq  \n",
       "2  2020-10-23--2020-10-30  2020-10-23  2020-10-30  7hxHWCCAIIxFLCzvDgnQHX  \n",
       "3  2020-10-23--2020-10-30  2020-10-23  2020-10-30  4y4spB9m0Q6026KfkAvy9Q  \n",
       "4  2020-10-23--2020-10-30  2020-10-23  2020-10-30  6cx06DFPPHchuUAcTxznu9  "
      ],
      "text/html": "<div>\n<style scoped>\n    .dataframe tbody tr th:only-of-type {\n        vertical-align: middle;\n    }\n\n    .dataframe tbody tr th {\n        vertical-align: top;\n    }\n\n    .dataframe thead th {\n        text-align: right;\n    }\n</style>\n<table border=\"1\" class=\"dataframe\">\n  <thead>\n    <tr style=\"text-align: right;\">\n      <th></th>\n      <th>Position</th>\n      <th>Track Name</th>\n      <th>Artist</th>\n      <th>Streams</th>\n      <th>URL</th>\n      <th>Date</th>\n      <th>Start Week</th>\n      <th>End Week</th>\n      <th>ID</th>\n    </tr>\n  </thead>\n  <tbody>\n    <tr>\n      <th>0</th>\n      <td>1</td>\n      <td>Scooter</td>\n      <td>Yssi SB</td>\n      <td>2375687</td>\n      <td>https://open.spotify.com/track/4eWeOwo0TB0vkdr...</td>\n      <td>2020-10-23--2020-10-30</td>\n      <td>2020-10-23</td>\n      <td>2020-10-30</td>\n      <td>4eWeOwo0TB0vkdrUhy4zbM</td>\n    </tr>\n    <tr>\n      <th>1</th>\n      <td>2</td>\n      <td>Mood (feat. iann dior)</td>\n      <td>24kGoldn</td>\n      <td>1614485</td>\n      <td>https://open.spotify.com/track/3tjFYV6RSFtuktY...</td>\n      <td>2020-10-23--2020-10-30</td>\n      <td>2020-10-23</td>\n      <td>2020-10-30</td>\n      <td>3tjFYV6RSFtuktYl3ZtYcq</td>\n    </tr>\n    <tr>\n      <th>2</th>\n      <td>3</td>\n      <td>Lemonade (feat. Gunna, Don Toliver &amp; NAV)</td>\n      <td>Internet Money</td>\n      <td>1429665</td>\n      <td>https://open.spotify.com/track/7hxHWCCAIIxFLCz...</td>\n      <td>2020-10-23--2020-10-30</td>\n      <td>2020-10-23</td>\n      <td>2020-10-30</td>\n      <td>7hxHWCCAIIxFLCzvDgnQHX</td>\n    </tr>\n    <tr>\n      <th>3</th>\n      <td>4</td>\n      <td>Lonely (with benny blanco)</td>\n      <td>Justin Bieber</td>\n      <td>1330793</td>\n      <td>https://open.spotify.com/track/4y4spB9m0Q6026K...</td>\n      <td>2020-10-23--2020-10-30</td>\n      <td>2020-10-23</td>\n      <td>2020-10-30</td>\n      <td>4y4spB9m0Q6026KfkAvy9Q</td>\n    </tr>\n    <tr>\n      <th>4</th>\n      <td>5</td>\n      <td>Head &amp; Heart (feat. MNEK)</td>\n      <td>Joel Corry</td>\n      <td>1271413</td>\n      <td>https://open.spotify.com/track/6cx06DFPPHchuUA...</td>\n      <td>2020-10-23--2020-10-30</td>\n      <td>2020-10-23</td>\n      <td>2020-10-30</td>\n      <td>6cx06DFPPHchuUAcTxznu9</td>\n    </tr>\n  </tbody>\n</table>\n</div>"
     },
     "metadata": {},
     "execution_count": 8
    }
   ],
   "source": [
    "df = pd.read_csv(\"..\\\\data\\\\processed\\\\top200_2017_2020.csv\")\n",
    "df.head()"
   ]
  },
  {
   "cell_type": "code",
   "execution_count": 17,
   "metadata": {},
   "outputs": [
    {
     "output_type": "execute_result",
     "data": {
      "text/plain": [
       "5044"
      ]
     },
     "metadata": {},
     "execution_count": 17
    }
   ],
   "source": [
    "len(df['ID'].unique())"
   ]
  },
  {
   "source": [
    "## 2.\n",
    "## Retrieve and Combine music features through Spotify API\n"
   ],
   "cell_type": "markdown",
   "metadata": {}
  },
  {
   "cell_type": "code",
   "execution_count": 11,
   "metadata": {},
   "outputs": [],
   "source": [
    "# Fill this in using your Spotify API Credentials from https://developer.spotify.com/dashboard/applications\n",
    "import spotipy\n",
    "from spotipy.oauth2 import SpotifyClientCredentials\n",
    "\n",
    "cid =\"XXX\" \n",
    "secret = \"XXX\"\n",
    "\n",
    "client_credentials_manager = SpotifyClientCredentials(client_id=cid, client_secret=secret)\n",
    "sp = spotipy.Spotify(client_credentials_manager=client_credentials_manager)"
   ]
  },
  {
   "cell_type": "code",
   "execution_count": 13,
   "metadata": {},
   "outputs": [],
   "source": [
    "# Where I save my Spotify API Credentials, outside of this public repository :)\n",
    "import spotipy\n",
    "%run credentials.py"
   ]
  },
  {
   "cell_type": "code",
   "execution_count": 20,
   "metadata": {},
   "outputs": [
    {
     "output_type": "stream",
     "name": "stderr",
     "text": [
      "100%|██████████| 51/51 [00:07<00:00,  7.01it/s]\n"
     ]
    }
   ],
   "source": [
    "# Inspired by https://github.com/tgel0/spotify-data/blob/master/notebooks/SpotifyDataRetrieval.ipynb under MIT Licence.\n",
    "\n",
    "df_ids = df[\"ID\"].drop_duplicates()\n",
    "\n",
    "rows = []\n",
    "batchsize = 100\n",
    "None_counter = 0\n",
    "\n",
    "for i in tqdm(range(0,len(df_ids),batchsize)):\n",
    "    batch = df_ids[i:i+batchsize]\n",
    "    feature_results = sp.audio_features(batch)\n",
    "    for i, t in enumerate(feature_results):\n",
    "        if t == None:\n",
    "            None_counter = None_counter + 1\n",
    "        else:\n",
    "            rows.append(t)"
   ]
  },
  {
   "cell_type": "code",
   "execution_count": 22,
   "metadata": {},
   "outputs": [
    {
     "output_type": "execute_result",
     "data": {
      "text/plain": [
       "      danceability  energy  key  loudness  mode  speechiness  acousticness  \\\n",
       "0            0.781   0.412    0   -10.860     1       0.1410         0.262   \n",
       "1            0.700   0.722    7    -3.558     0       0.0369         0.221   \n",
       "2            0.800   0.658    1    -6.142     0       0.0790         0.250   \n",
       "3            0.631   0.239   11    -7.071     0       0.0398         0.864   \n",
       "4            0.734   0.874    8    -3.158     1       0.0662         0.168   \n",
       "...            ...     ...  ...       ...   ...          ...           ...   \n",
       "5039         0.622   0.688    4    -3.504     0       0.0845         0.520   \n",
       "5040         0.664   0.518   11    -9.947     1       0.0335         0.266   \n",
       "5041         0.295   0.496    7    -9.478     1       0.0327         0.207   \n",
       "5042         0.325   0.759    8    -7.146     1       0.0530         0.395   \n",
       "5043         0.611   0.352   10    -9.777     1       0.0236         0.750   \n",
       "\n",
       "      instrumentalness  liveness  valence    tempo            type  \\\n",
       "0             0.000000    0.4280   0.8790  159.981  audio_features   \n",
       "1             0.000000    0.2720   0.7560   90.989  audio_features   \n",
       "2             0.000000    0.1110   0.4620  140.042  audio_features   \n",
       "3             0.000000    0.1160   0.0927   79.859  audio_features   \n",
       "4             0.000011    0.0489   0.9050  122.953  audio_features   \n",
       "...                ...       ...      ...      ...             ...   \n",
       "5039          0.000000    0.3750   0.7660  140.561  audio_features   \n",
       "5040          0.000031    0.0762   0.3300   80.969  audio_features   \n",
       "5041          0.000396    0.8580   0.2240  132.062  audio_features   \n",
       "5042          0.000362    0.0773   0.3600  126.627  audio_features   \n",
       "5043          0.000000    0.1130   0.1380   99.971  audio_features   \n",
       "\n",
       "                          id                                   uri  \\\n",
       "0     4eWeOwo0TB0vkdrUhy4zbM  spotify:track:4eWeOwo0TB0vkdrUhy4zbM   \n",
       "1     3tjFYV6RSFtuktYl3ZtYcq  spotify:track:3tjFYV6RSFtuktYl3ZtYcq   \n",
       "2     7hxHWCCAIIxFLCzvDgnQHX  spotify:track:7hxHWCCAIIxFLCzvDgnQHX   \n",
       "3     4y4spB9m0Q6026KfkAvy9Q  spotify:track:4y4spB9m0Q6026KfkAvy9Q   \n",
       "4     6cx06DFPPHchuUAcTxznu9  spotify:track:6cx06DFPPHchuUAcTxznu9   \n",
       "...                      ...                                   ...   \n",
       "5039  18g50kFt5uwVeCzQbrCvAO  spotify:track:18g50kFt5uwVeCzQbrCvAO   \n",
       "5040  1DGYmHLYkwyCmvDEL3ctti  spotify:track:1DGYmHLYkwyCmvDEL3ctti   \n",
       "5041  4QVdnpSO5JGMFOEl6ys4RQ  spotify:track:4QVdnpSO5JGMFOEl6ys4RQ   \n",
       "5042  46pF1zFimM582ss1PrMy68  spotify:track:46pF1zFimM582ss1PrMy68   \n",
       "5043  2mOtx6P21hecOcPoVuZbzF  spotify:track:2mOtx6P21hecOcPoVuZbzF   \n",
       "\n",
       "                                             track_href  \\\n",
       "0     https://api.spotify.com/v1/tracks/4eWeOwo0TB0v...   \n",
       "1     https://api.spotify.com/v1/tracks/3tjFYV6RSFtu...   \n",
       "2     https://api.spotify.com/v1/tracks/7hxHWCCAIIxF...   \n",
       "3     https://api.spotify.com/v1/tracks/4y4spB9m0Q60...   \n",
       "4     https://api.spotify.com/v1/tracks/6cx06DFPPHch...   \n",
       "...                                                 ...   \n",
       "5039  https://api.spotify.com/v1/tracks/18g50kFt5uwV...   \n",
       "5040  https://api.spotify.com/v1/tracks/1DGYmHLYkwyC...   \n",
       "5041  https://api.spotify.com/v1/tracks/4QVdnpSO5JGM...   \n",
       "5042  https://api.spotify.com/v1/tracks/46pF1zFimM58...   \n",
       "5043  https://api.spotify.com/v1/tracks/2mOtx6P21hec...   \n",
       "\n",
       "                                           analysis_url  duration_ms  \\\n",
       "0     https://api.spotify.com/v1/audio-analysis/4eWe...       278000   \n",
       "1     https://api.spotify.com/v1/audio-analysis/3tjF...       140526   \n",
       "2     https://api.spotify.com/v1/audio-analysis/7hxH...       195429   \n",
       "3     https://api.spotify.com/v1/audio-analysis/4y4s...       149297   \n",
       "4     https://api.spotify.com/v1/audio-analysis/6cx0...       166028   \n",
       "...                                                 ...          ...   \n",
       "5039  https://api.spotify.com/v1/audio-analysis/18g5...       161973   \n",
       "5040  https://api.spotify.com/v1/audio-analysis/1DGY...       242893   \n",
       "5041  https://api.spotify.com/v1/audio-analysis/4QVd...       268521   \n",
       "5042  https://api.spotify.com/v1/audio-analysis/46pF...       166453   \n",
       "5043  https://api.spotify.com/v1/audio-analysis/2mOt...       217840   \n",
       "\n",
       "      time_signature  \n",
       "0                  4  \n",
       "1                  4  \n",
       "2                  4  \n",
       "3                  4  \n",
       "4                  4  \n",
       "...              ...  \n",
       "5039               4  \n",
       "5040               4  \n",
       "5041               4  \n",
       "5042               4  \n",
       "5043               4  \n",
       "\n",
       "[5044 rows x 18 columns]"
      ],
      "text/html": "<div>\n<style scoped>\n    .dataframe tbody tr th:only-of-type {\n        vertical-align: middle;\n    }\n\n    .dataframe tbody tr th {\n        vertical-align: top;\n    }\n\n    .dataframe thead th {\n        text-align: right;\n    }\n</style>\n<table border=\"1\" class=\"dataframe\">\n  <thead>\n    <tr style=\"text-align: right;\">\n      <th></th>\n      <th>danceability</th>\n      <th>energy</th>\n      <th>key</th>\n      <th>loudness</th>\n      <th>mode</th>\n      <th>speechiness</th>\n      <th>acousticness</th>\n      <th>instrumentalness</th>\n      <th>liveness</th>\n      <th>valence</th>\n      <th>tempo</th>\n      <th>type</th>\n      <th>id</th>\n      <th>uri</th>\n      <th>track_href</th>\n      <th>analysis_url</th>\n      <th>duration_ms</th>\n      <th>time_signature</th>\n    </tr>\n  </thead>\n  <tbody>\n    <tr>\n      <th>0</th>\n      <td>0.781</td>\n      <td>0.412</td>\n      <td>0</td>\n      <td>-10.860</td>\n      <td>1</td>\n      <td>0.1410</td>\n      <td>0.262</td>\n      <td>0.000000</td>\n      <td>0.4280</td>\n      <td>0.8790</td>\n      <td>159.981</td>\n      <td>audio_features</td>\n      <td>4eWeOwo0TB0vkdrUhy4zbM</td>\n      <td>spotify:track:4eWeOwo0TB0vkdrUhy4zbM</td>\n      <td>https://api.spotify.com/v1/tracks/4eWeOwo0TB0v...</td>\n      <td>https://api.spotify.com/v1/audio-analysis/4eWe...</td>\n      <td>278000</td>\n      <td>4</td>\n    </tr>\n    <tr>\n      <th>1</th>\n      <td>0.700</td>\n      <td>0.722</td>\n      <td>7</td>\n      <td>-3.558</td>\n      <td>0</td>\n      <td>0.0369</td>\n      <td>0.221</td>\n      <td>0.000000</td>\n      <td>0.2720</td>\n      <td>0.7560</td>\n      <td>90.989</td>\n      <td>audio_features</td>\n      <td>3tjFYV6RSFtuktYl3ZtYcq</td>\n      <td>spotify:track:3tjFYV6RSFtuktYl3ZtYcq</td>\n      <td>https://api.spotify.com/v1/tracks/3tjFYV6RSFtu...</td>\n      <td>https://api.spotify.com/v1/audio-analysis/3tjF...</td>\n      <td>140526</td>\n      <td>4</td>\n    </tr>\n    <tr>\n      <th>2</th>\n      <td>0.800</td>\n      <td>0.658</td>\n      <td>1</td>\n      <td>-6.142</td>\n      <td>0</td>\n      <td>0.0790</td>\n      <td>0.250</td>\n      <td>0.000000</td>\n      <td>0.1110</td>\n      <td>0.4620</td>\n      <td>140.042</td>\n      <td>audio_features</td>\n      <td>7hxHWCCAIIxFLCzvDgnQHX</td>\n      <td>spotify:track:7hxHWCCAIIxFLCzvDgnQHX</td>\n      <td>https://api.spotify.com/v1/tracks/7hxHWCCAIIxF...</td>\n      <td>https://api.spotify.com/v1/audio-analysis/7hxH...</td>\n      <td>195429</td>\n      <td>4</td>\n    </tr>\n    <tr>\n      <th>3</th>\n      <td>0.631</td>\n      <td>0.239</td>\n      <td>11</td>\n      <td>-7.071</td>\n      <td>0</td>\n      <td>0.0398</td>\n      <td>0.864</td>\n      <td>0.000000</td>\n      <td>0.1160</td>\n      <td>0.0927</td>\n      <td>79.859</td>\n      <td>audio_features</td>\n      <td>4y4spB9m0Q6026KfkAvy9Q</td>\n      <td>spotify:track:4y4spB9m0Q6026KfkAvy9Q</td>\n      <td>https://api.spotify.com/v1/tracks/4y4spB9m0Q60...</td>\n      <td>https://api.spotify.com/v1/audio-analysis/4y4s...</td>\n      <td>149297</td>\n      <td>4</td>\n    </tr>\n    <tr>\n      <th>4</th>\n      <td>0.734</td>\n      <td>0.874</td>\n      <td>8</td>\n      <td>-3.158</td>\n      <td>1</td>\n      <td>0.0662</td>\n      <td>0.168</td>\n      <td>0.000011</td>\n      <td>0.0489</td>\n      <td>0.9050</td>\n      <td>122.953</td>\n      <td>audio_features</td>\n      <td>6cx06DFPPHchuUAcTxznu9</td>\n      <td>spotify:track:6cx06DFPPHchuUAcTxznu9</td>\n      <td>https://api.spotify.com/v1/tracks/6cx06DFPPHch...</td>\n      <td>https://api.spotify.com/v1/audio-analysis/6cx0...</td>\n      <td>166028</td>\n      <td>4</td>\n    </tr>\n    <tr>\n      <th>...</th>\n      <td>...</td>\n      <td>...</td>\n      <td>...</td>\n      <td>...</td>\n      <td>...</td>\n      <td>...</td>\n      <td>...</td>\n      <td>...</td>\n      <td>...</td>\n      <td>...</td>\n      <td>...</td>\n      <td>...</td>\n      <td>...</td>\n      <td>...</td>\n      <td>...</td>\n      <td>...</td>\n      <td>...</td>\n      <td>...</td>\n    </tr>\n    <tr>\n      <th>5039</th>\n      <td>0.622</td>\n      <td>0.688</td>\n      <td>4</td>\n      <td>-3.504</td>\n      <td>0</td>\n      <td>0.0845</td>\n      <td>0.520</td>\n      <td>0.000000</td>\n      <td>0.3750</td>\n      <td>0.7660</td>\n      <td>140.561</td>\n      <td>audio_features</td>\n      <td>18g50kFt5uwVeCzQbrCvAO</td>\n      <td>spotify:track:18g50kFt5uwVeCzQbrCvAO</td>\n      <td>https://api.spotify.com/v1/tracks/18g50kFt5uwV...</td>\n      <td>https://api.spotify.com/v1/audio-analysis/18g5...</td>\n      <td>161973</td>\n      <td>4</td>\n    </tr>\n    <tr>\n      <th>5040</th>\n      <td>0.664</td>\n      <td>0.518</td>\n      <td>11</td>\n      <td>-9.947</td>\n      <td>1</td>\n      <td>0.0335</td>\n      <td>0.266</td>\n      <td>0.000031</td>\n      <td>0.0762</td>\n      <td>0.3300</td>\n      <td>80.969</td>\n      <td>audio_features</td>\n      <td>1DGYmHLYkwyCmvDEL3ctti</td>\n      <td>spotify:track:1DGYmHLYkwyCmvDEL3ctti</td>\n      <td>https://api.spotify.com/v1/tracks/1DGYmHLYkwyC...</td>\n      <td>https://api.spotify.com/v1/audio-analysis/1DGY...</td>\n      <td>242893</td>\n      <td>4</td>\n    </tr>\n    <tr>\n      <th>5041</th>\n      <td>0.295</td>\n      <td>0.496</td>\n      <td>7</td>\n      <td>-9.478</td>\n      <td>1</td>\n      <td>0.0327</td>\n      <td>0.207</td>\n      <td>0.000396</td>\n      <td>0.8580</td>\n      <td>0.2240</td>\n      <td>132.062</td>\n      <td>audio_features</td>\n      <td>4QVdnpSO5JGMFOEl6ys4RQ</td>\n      <td>spotify:track:4QVdnpSO5JGMFOEl6ys4RQ</td>\n      <td>https://api.spotify.com/v1/tracks/4QVdnpSO5JGM...</td>\n      <td>https://api.spotify.com/v1/audio-analysis/4QVd...</td>\n      <td>268521</td>\n      <td>4</td>\n    </tr>\n    <tr>\n      <th>5042</th>\n      <td>0.325</td>\n      <td>0.759</td>\n      <td>8</td>\n      <td>-7.146</td>\n      <td>1</td>\n      <td>0.0530</td>\n      <td>0.395</td>\n      <td>0.000362</td>\n      <td>0.0773</td>\n      <td>0.3600</td>\n      <td>126.627</td>\n      <td>audio_features</td>\n      <td>46pF1zFimM582ss1PrMy68</td>\n      <td>spotify:track:46pF1zFimM582ss1PrMy68</td>\n      <td>https://api.spotify.com/v1/tracks/46pF1zFimM58...</td>\n      <td>https://api.spotify.com/v1/audio-analysis/46pF...</td>\n      <td>166453</td>\n      <td>4</td>\n    </tr>\n    <tr>\n      <th>5043</th>\n      <td>0.611</td>\n      <td>0.352</td>\n      <td>10</td>\n      <td>-9.777</td>\n      <td>1</td>\n      <td>0.0236</td>\n      <td>0.750</td>\n      <td>0.000000</td>\n      <td>0.1130</td>\n      <td>0.1380</td>\n      <td>99.971</td>\n      <td>audio_features</td>\n      <td>2mOtx6P21hecOcPoVuZbzF</td>\n      <td>spotify:track:2mOtx6P21hecOcPoVuZbzF</td>\n      <td>https://api.spotify.com/v1/tracks/2mOtx6P21hec...</td>\n      <td>https://api.spotify.com/v1/audio-analysis/2mOt...</td>\n      <td>217840</td>\n      <td>4</td>\n    </tr>\n  </tbody>\n</table>\n<p>5044 rows × 18 columns</p>\n</div>"
     },
     "metadata": {},
     "execution_count": 22
    }
   ],
   "source": [
    "features = pd.DataFrame.from_dict(rows, orient=\"columns\")\n",
    "features"
   ]
  },
  {
   "cell_type": "code",
   "execution_count": 23,
   "metadata": {},
   "outputs": [],
   "source": [
    "features.drop(['analysis_url','track_href','type','uri'], axis=1,inplace=True)"
   ]
  },
  {
   "cell_type": "code",
   "execution_count": 24,
   "metadata": {},
   "outputs": [
    {
     "output_type": "execute_result",
     "data": {
      "text/plain": [
       "       danceability       energy          key     loudness         mode  \\\n",
       "count   5044.000000  5044.000000  5044.000000  5044.000000  5044.000000   \n",
       "mean       0.705734     0.641500     5.329897    -6.702512     0.518438   \n",
       "std        0.137359     0.152487     3.629398     2.328562     0.499709   \n",
       "min        0.153000     0.031600     0.000000   -23.023000     0.000000   \n",
       "25%        0.617000     0.552000     2.000000    -7.787250     0.000000   \n",
       "50%        0.725000     0.650000     6.000000    -6.375500     1.000000   \n",
       "75%        0.808000     0.753000     8.000000    -5.212750     1.000000   \n",
       "max        0.974000     0.990000    11.000000    -0.793000     1.000000   \n",
       "\n",
       "       speechiness  acousticness  instrumentalness     liveness      valence  \\\n",
       "count  5044.000000   5044.000000       5044.000000  5044.000000  5044.000000   \n",
       "mean      0.166293      0.228704          0.009184     0.167508     0.521988   \n",
       "std       0.130550      0.225705          0.063489     0.124543     0.211665   \n",
       "min       0.023200      0.000055          0.000000     0.018300     0.036000   \n",
       "25%       0.054600      0.053675          0.000000     0.093600     0.360000   \n",
       "50%       0.120000      0.149000          0.000000     0.120000     0.531000   \n",
       "75%       0.259000      0.336000          0.000039     0.194000     0.683000   \n",
       "max       0.966000      0.993000          0.918000     0.973000     0.989000   \n",
       "\n",
       "             tempo   duration_ms  time_signature  \n",
       "count  5044.000000  5.044000e+03     5044.000000  \n",
       "mean    119.226200  1.914033e+05        3.991673  \n",
       "std      28.813732  4.399746e+04        0.323466  \n",
       "min      38.796000  3.013300e+04        1.000000  \n",
       "25%      97.917500  1.645958e+05        4.000000  \n",
       "50%     114.949500  1.880200e+05        4.000000  \n",
       "75%     138.055750  2.133150e+05        4.000000  \n",
       "max     216.821000  1.336000e+06        5.000000  "
      ],
      "text/html": "<div>\n<style scoped>\n    .dataframe tbody tr th:only-of-type {\n        vertical-align: middle;\n    }\n\n    .dataframe tbody tr th {\n        vertical-align: top;\n    }\n\n    .dataframe thead th {\n        text-align: right;\n    }\n</style>\n<table border=\"1\" class=\"dataframe\">\n  <thead>\n    <tr style=\"text-align: right;\">\n      <th></th>\n      <th>danceability</th>\n      <th>energy</th>\n      <th>key</th>\n      <th>loudness</th>\n      <th>mode</th>\n      <th>speechiness</th>\n      <th>acousticness</th>\n      <th>instrumentalness</th>\n      <th>liveness</th>\n      <th>valence</th>\n      <th>tempo</th>\n      <th>duration_ms</th>\n      <th>time_signature</th>\n    </tr>\n  </thead>\n  <tbody>\n    <tr>\n      <th>count</th>\n      <td>5044.000000</td>\n      <td>5044.000000</td>\n      <td>5044.000000</td>\n      <td>5044.000000</td>\n      <td>5044.000000</td>\n      <td>5044.000000</td>\n      <td>5044.000000</td>\n      <td>5044.000000</td>\n      <td>5044.000000</td>\n      <td>5044.000000</td>\n      <td>5044.000000</td>\n      <td>5.044000e+03</td>\n      <td>5044.000000</td>\n    </tr>\n    <tr>\n      <th>mean</th>\n      <td>0.705734</td>\n      <td>0.641500</td>\n      <td>5.329897</td>\n      <td>-6.702512</td>\n      <td>0.518438</td>\n      <td>0.166293</td>\n      <td>0.228704</td>\n      <td>0.009184</td>\n      <td>0.167508</td>\n      <td>0.521988</td>\n      <td>119.226200</td>\n      <td>1.914033e+05</td>\n      <td>3.991673</td>\n    </tr>\n    <tr>\n      <th>std</th>\n      <td>0.137359</td>\n      <td>0.152487</td>\n      <td>3.629398</td>\n      <td>2.328562</td>\n      <td>0.499709</td>\n      <td>0.130550</td>\n      <td>0.225705</td>\n      <td>0.063489</td>\n      <td>0.124543</td>\n      <td>0.211665</td>\n      <td>28.813732</td>\n      <td>4.399746e+04</td>\n      <td>0.323466</td>\n    </tr>\n    <tr>\n      <th>min</th>\n      <td>0.153000</td>\n      <td>0.031600</td>\n      <td>0.000000</td>\n      <td>-23.023000</td>\n      <td>0.000000</td>\n      <td>0.023200</td>\n      <td>0.000055</td>\n      <td>0.000000</td>\n      <td>0.018300</td>\n      <td>0.036000</td>\n      <td>38.796000</td>\n      <td>3.013300e+04</td>\n      <td>1.000000</td>\n    </tr>\n    <tr>\n      <th>25%</th>\n      <td>0.617000</td>\n      <td>0.552000</td>\n      <td>2.000000</td>\n      <td>-7.787250</td>\n      <td>0.000000</td>\n      <td>0.054600</td>\n      <td>0.053675</td>\n      <td>0.000000</td>\n      <td>0.093600</td>\n      <td>0.360000</td>\n      <td>97.917500</td>\n      <td>1.645958e+05</td>\n      <td>4.000000</td>\n    </tr>\n    <tr>\n      <th>50%</th>\n      <td>0.725000</td>\n      <td>0.650000</td>\n      <td>6.000000</td>\n      <td>-6.375500</td>\n      <td>1.000000</td>\n      <td>0.120000</td>\n      <td>0.149000</td>\n      <td>0.000000</td>\n      <td>0.120000</td>\n      <td>0.531000</td>\n      <td>114.949500</td>\n      <td>1.880200e+05</td>\n      <td>4.000000</td>\n    </tr>\n    <tr>\n      <th>75%</th>\n      <td>0.808000</td>\n      <td>0.753000</td>\n      <td>8.000000</td>\n      <td>-5.212750</td>\n      <td>1.000000</td>\n      <td>0.259000</td>\n      <td>0.336000</td>\n      <td>0.000039</td>\n      <td>0.194000</td>\n      <td>0.683000</td>\n      <td>138.055750</td>\n      <td>2.133150e+05</td>\n      <td>4.000000</td>\n    </tr>\n    <tr>\n      <th>max</th>\n      <td>0.974000</td>\n      <td>0.990000</td>\n      <td>11.000000</td>\n      <td>-0.793000</td>\n      <td>1.000000</td>\n      <td>0.966000</td>\n      <td>0.993000</td>\n      <td>0.918000</td>\n      <td>0.973000</td>\n      <td>0.989000</td>\n      <td>216.821000</td>\n      <td>1.336000e+06</td>\n      <td>5.000000</td>\n    </tr>\n  </tbody>\n</table>\n</div>"
     },
     "metadata": {},
     "execution_count": 24
    }
   ],
   "source": [
    "features.describe()"
   ]
  },
  {
   "cell_type": "code",
   "execution_count": 25,
   "metadata": {},
   "outputs": [
    {
     "output_type": "stream",
     "name": "stdout",
     "text": [
      "danceability        0\nenergy              0\nkey                 0\nloudness            0\nmode                0\nspeechiness         0\nacousticness        0\ninstrumentalness    0\nliveness            0\nvalence             0\ntempo               0\nid                  0\nduration_ms         0\ntime_signature      0\ndtype: int64\n<class 'pandas.core.frame.DataFrame'>\nRangeIndex: 5044 entries, 0 to 5043\nData columns (total 14 columns):\n #   Column            Non-Null Count  Dtype  \n---  ------            --------------  -----  \n 0   danceability      5044 non-null   float64\n 1   energy            5044 non-null   float64\n 2   key               5044 non-null   int64  \n 3   loudness          5044 non-null   float64\n 4   mode              5044 non-null   int64  \n 5   speechiness       5044 non-null   float64\n 6   acousticness      5044 non-null   float64\n 7   instrumentalness  5044 non-null   float64\n 8   liveness          5044 non-null   float64\n 9   valence           5044 non-null   float64\n 10  tempo             5044 non-null   float64\n 11  id                5044 non-null   object \n 12  duration_ms       5044 non-null   int64  \n 13  time_signature    5044 non-null   int64  \ndtypes: float64(9), int64(4), object(1)\nmemory usage: 551.8+ KB\nNone\n"
     ]
    }
   ],
   "source": [
    "print(features.isna().sum())\n",
    "print(features.info())"
   ]
  },
  {
   "cell_type": "code",
   "execution_count": 26,
   "metadata": {},
   "outputs": [
    {
     "output_type": "execute_result",
     "data": {
      "text/plain": [
       "       Position                                   Track Name           Artist  \\\n",
       "0             1                                      Scooter          Yssi SB   \n",
       "1             2                       Mood (feat. iann dior)         24kGoldn   \n",
       "2             1                       Mood (feat. iann dior)         24kGoldn   \n",
       "3             1                       Mood (feat. iann dior)         24kGoldn   \n",
       "4             1                       Mood (feat. iann dior)         24kGoldn   \n",
       "...         ...                                          ...              ...   \n",
       "40188       174                             Man With The Bag         Jessie J   \n",
       "40189       176                                Christmas Day             Dido   \n",
       "40190       182  Christmas Lights - Live from Spotify London         Coldplay   \n",
       "40191       195            Christmas (Baby Please Come Home)     Darlene Love   \n",
       "40192       198               Please Come Home for Christmas  Luther Vandross   \n",
       "\n",
       "       Streams                                                URL  \\\n",
       "0      2375687  https://open.spotify.com/track/4eWeOwo0TB0vkdr...   \n",
       "1      1614485  https://open.spotify.com/track/3tjFYV6RSFtuktY...   \n",
       "2      1637451  https://open.spotify.com/track/3tjFYV6RSFtuktY...   \n",
       "3      1693876  https://open.spotify.com/track/3tjFYV6RSFtuktY...   \n",
       "4      1787537  https://open.spotify.com/track/3tjFYV6RSFtuktY...   \n",
       "...        ...                                                ...   \n",
       "40188   123048  https://open.spotify.com/track/18g50kFt5uwVeCz...   \n",
       "40189   122741  https://open.spotify.com/track/1DGYmHLYkwyCmvD...   \n",
       "40190   119168  https://open.spotify.com/track/4QVdnpSO5JGMFOE...   \n",
       "40191   114594  https://open.spotify.com/track/46pF1zFimM582ss...   \n",
       "40192   113779  https://open.spotify.com/track/2mOtx6P21hecOcP...   \n",
       "\n",
       "                         Date  Start Week    End Week                      ID  \\\n",
       "0      2020-10-23--2020-10-30  2020-10-23  2020-10-30  4eWeOwo0TB0vkdrUhy4zbM   \n",
       "1      2020-10-23--2020-10-30  2020-10-23  2020-10-30  3tjFYV6RSFtuktYl3ZtYcq   \n",
       "2      2020-10-16--2020-10-23  2020-10-16  2020-10-23  3tjFYV6RSFtuktYl3ZtYcq   \n",
       "3      2020-10-09--2020-10-16  2020-10-09  2020-10-16  3tjFYV6RSFtuktYl3ZtYcq   \n",
       "4      2020-10-02--2020-10-09  2020-10-02  2020-10-09  3tjFYV6RSFtuktYl3ZtYcq   \n",
       "...                       ...         ...         ...                     ...   \n",
       "40188  2016-12-23--2016-12-30  2016-12-23  2016-12-30  18g50kFt5uwVeCzQbrCvAO   \n",
       "40189  2016-12-23--2016-12-30  2016-12-23  2016-12-30  1DGYmHLYkwyCmvDEL3ctti   \n",
       "40190  2016-12-23--2016-12-30  2016-12-23  2016-12-30  4QVdnpSO5JGMFOEl6ys4RQ   \n",
       "40191  2016-12-23--2016-12-30  2016-12-23  2016-12-30  46pF1zFimM582ss1PrMy68   \n",
       "40192  2016-12-23--2016-12-30  2016-12-23  2016-12-30  2mOtx6P21hecOcPoVuZbzF   \n",
       "\n",
       "       danceability  ...  mode  speechiness  acousticness  instrumentalness  \\\n",
       "0             0.781  ...     1       0.1410         0.262          0.000000   \n",
       "1             0.700  ...     0       0.0369         0.221          0.000000   \n",
       "2             0.700  ...     0       0.0369         0.221          0.000000   \n",
       "3             0.700  ...     0       0.0369         0.221          0.000000   \n",
       "4             0.700  ...     0       0.0369         0.221          0.000000   \n",
       "...             ...  ...   ...          ...           ...               ...   \n",
       "40188         0.622  ...     0       0.0845         0.520          0.000000   \n",
       "40189         0.664  ...     1       0.0335         0.266          0.000031   \n",
       "40190         0.295  ...     1       0.0327         0.207          0.000396   \n",
       "40191         0.325  ...     1       0.0530         0.395          0.000362   \n",
       "40192         0.611  ...     1       0.0236         0.750          0.000000   \n",
       "\n",
       "       liveness  valence    tempo                      id  duration_ms  \\\n",
       "0        0.4280    0.879  159.981  4eWeOwo0TB0vkdrUhy4zbM       278000   \n",
       "1        0.2720    0.756   90.989  3tjFYV6RSFtuktYl3ZtYcq       140526   \n",
       "2        0.2720    0.756   90.989  3tjFYV6RSFtuktYl3ZtYcq       140526   \n",
       "3        0.2720    0.756   90.989  3tjFYV6RSFtuktYl3ZtYcq       140526   \n",
       "4        0.2720    0.756   90.989  3tjFYV6RSFtuktYl3ZtYcq       140526   \n",
       "...         ...      ...      ...                     ...          ...   \n",
       "40188    0.3750    0.766  140.561  18g50kFt5uwVeCzQbrCvAO       161973   \n",
       "40189    0.0762    0.330   80.969  1DGYmHLYkwyCmvDEL3ctti       242893   \n",
       "40190    0.8580    0.224  132.062  4QVdnpSO5JGMFOEl6ys4RQ       268521   \n",
       "40191    0.0773    0.360  126.627  46pF1zFimM582ss1PrMy68       166453   \n",
       "40192    0.1130    0.138   99.971  2mOtx6P21hecOcPoVuZbzF       217840   \n",
       "\n",
       "       time_signature  \n",
       "0                   4  \n",
       "1                   4  \n",
       "2                   4  \n",
       "3                   4  \n",
       "4                   4  \n",
       "...               ...  \n",
       "40188               4  \n",
       "40189               4  \n",
       "40190               4  \n",
       "40191               4  \n",
       "40192               4  \n",
       "\n",
       "[40193 rows x 23 columns]"
      ],
      "text/html": "<div>\n<style scoped>\n    .dataframe tbody tr th:only-of-type {\n        vertical-align: middle;\n    }\n\n    .dataframe tbody tr th {\n        vertical-align: top;\n    }\n\n    .dataframe thead th {\n        text-align: right;\n    }\n</style>\n<table border=\"1\" class=\"dataframe\">\n  <thead>\n    <tr style=\"text-align: right;\">\n      <th></th>\n      <th>Position</th>\n      <th>Track Name</th>\n      <th>Artist</th>\n      <th>Streams</th>\n      <th>URL</th>\n      <th>Date</th>\n      <th>Start Week</th>\n      <th>End Week</th>\n      <th>ID</th>\n      <th>danceability</th>\n      <th>...</th>\n      <th>mode</th>\n      <th>speechiness</th>\n      <th>acousticness</th>\n      <th>instrumentalness</th>\n      <th>liveness</th>\n      <th>valence</th>\n      <th>tempo</th>\n      <th>id</th>\n      <th>duration_ms</th>\n      <th>time_signature</th>\n    </tr>\n  </thead>\n  <tbody>\n    <tr>\n      <th>0</th>\n      <td>1</td>\n      <td>Scooter</td>\n      <td>Yssi SB</td>\n      <td>2375687</td>\n      <td>https://open.spotify.com/track/4eWeOwo0TB0vkdr...</td>\n      <td>2020-10-23--2020-10-30</td>\n      <td>2020-10-23</td>\n      <td>2020-10-30</td>\n      <td>4eWeOwo0TB0vkdrUhy4zbM</td>\n      <td>0.781</td>\n      <td>...</td>\n      <td>1</td>\n      <td>0.1410</td>\n      <td>0.262</td>\n      <td>0.000000</td>\n      <td>0.4280</td>\n      <td>0.879</td>\n      <td>159.981</td>\n      <td>4eWeOwo0TB0vkdrUhy4zbM</td>\n      <td>278000</td>\n      <td>4</td>\n    </tr>\n    <tr>\n      <th>1</th>\n      <td>2</td>\n      <td>Mood (feat. iann dior)</td>\n      <td>24kGoldn</td>\n      <td>1614485</td>\n      <td>https://open.spotify.com/track/3tjFYV6RSFtuktY...</td>\n      <td>2020-10-23--2020-10-30</td>\n      <td>2020-10-23</td>\n      <td>2020-10-30</td>\n      <td>3tjFYV6RSFtuktYl3ZtYcq</td>\n      <td>0.700</td>\n      <td>...</td>\n      <td>0</td>\n      <td>0.0369</td>\n      <td>0.221</td>\n      <td>0.000000</td>\n      <td>0.2720</td>\n      <td>0.756</td>\n      <td>90.989</td>\n      <td>3tjFYV6RSFtuktYl3ZtYcq</td>\n      <td>140526</td>\n      <td>4</td>\n    </tr>\n    <tr>\n      <th>2</th>\n      <td>1</td>\n      <td>Mood (feat. iann dior)</td>\n      <td>24kGoldn</td>\n      <td>1637451</td>\n      <td>https://open.spotify.com/track/3tjFYV6RSFtuktY...</td>\n      <td>2020-10-16--2020-10-23</td>\n      <td>2020-10-16</td>\n      <td>2020-10-23</td>\n      <td>3tjFYV6RSFtuktYl3ZtYcq</td>\n      <td>0.700</td>\n      <td>...</td>\n      <td>0</td>\n      <td>0.0369</td>\n      <td>0.221</td>\n      <td>0.000000</td>\n      <td>0.2720</td>\n      <td>0.756</td>\n      <td>90.989</td>\n      <td>3tjFYV6RSFtuktYl3ZtYcq</td>\n      <td>140526</td>\n      <td>4</td>\n    </tr>\n    <tr>\n      <th>3</th>\n      <td>1</td>\n      <td>Mood (feat. iann dior)</td>\n      <td>24kGoldn</td>\n      <td>1693876</td>\n      <td>https://open.spotify.com/track/3tjFYV6RSFtuktY...</td>\n      <td>2020-10-09--2020-10-16</td>\n      <td>2020-10-09</td>\n      <td>2020-10-16</td>\n      <td>3tjFYV6RSFtuktYl3ZtYcq</td>\n      <td>0.700</td>\n      <td>...</td>\n      <td>0</td>\n      <td>0.0369</td>\n      <td>0.221</td>\n      <td>0.000000</td>\n      <td>0.2720</td>\n      <td>0.756</td>\n      <td>90.989</td>\n      <td>3tjFYV6RSFtuktYl3ZtYcq</td>\n      <td>140526</td>\n      <td>4</td>\n    </tr>\n    <tr>\n      <th>4</th>\n      <td>1</td>\n      <td>Mood (feat. iann dior)</td>\n      <td>24kGoldn</td>\n      <td>1787537</td>\n      <td>https://open.spotify.com/track/3tjFYV6RSFtuktY...</td>\n      <td>2020-10-02--2020-10-09</td>\n      <td>2020-10-02</td>\n      <td>2020-10-09</td>\n      <td>3tjFYV6RSFtuktYl3ZtYcq</td>\n      <td>0.700</td>\n      <td>...</td>\n      <td>0</td>\n      <td>0.0369</td>\n      <td>0.221</td>\n      <td>0.000000</td>\n      <td>0.2720</td>\n      <td>0.756</td>\n      <td>90.989</td>\n      <td>3tjFYV6RSFtuktYl3ZtYcq</td>\n      <td>140526</td>\n      <td>4</td>\n    </tr>\n    <tr>\n      <th>...</th>\n      <td>...</td>\n      <td>...</td>\n      <td>...</td>\n      <td>...</td>\n      <td>...</td>\n      <td>...</td>\n      <td>...</td>\n      <td>...</td>\n      <td>...</td>\n      <td>...</td>\n      <td>...</td>\n      <td>...</td>\n      <td>...</td>\n      <td>...</td>\n      <td>...</td>\n      <td>...</td>\n      <td>...</td>\n      <td>...</td>\n      <td>...</td>\n      <td>...</td>\n      <td>...</td>\n    </tr>\n    <tr>\n      <th>40188</th>\n      <td>174</td>\n      <td>Man With The Bag</td>\n      <td>Jessie J</td>\n      <td>123048</td>\n      <td>https://open.spotify.com/track/18g50kFt5uwVeCz...</td>\n      <td>2016-12-23--2016-12-30</td>\n      <td>2016-12-23</td>\n      <td>2016-12-30</td>\n      <td>18g50kFt5uwVeCzQbrCvAO</td>\n      <td>0.622</td>\n      <td>...</td>\n      <td>0</td>\n      <td>0.0845</td>\n      <td>0.520</td>\n      <td>0.000000</td>\n      <td>0.3750</td>\n      <td>0.766</td>\n      <td>140.561</td>\n      <td>18g50kFt5uwVeCzQbrCvAO</td>\n      <td>161973</td>\n      <td>4</td>\n    </tr>\n    <tr>\n      <th>40189</th>\n      <td>176</td>\n      <td>Christmas Day</td>\n      <td>Dido</td>\n      <td>122741</td>\n      <td>https://open.spotify.com/track/1DGYmHLYkwyCmvD...</td>\n      <td>2016-12-23--2016-12-30</td>\n      <td>2016-12-23</td>\n      <td>2016-12-30</td>\n      <td>1DGYmHLYkwyCmvDEL3ctti</td>\n      <td>0.664</td>\n      <td>...</td>\n      <td>1</td>\n      <td>0.0335</td>\n      <td>0.266</td>\n      <td>0.000031</td>\n      <td>0.0762</td>\n      <td>0.330</td>\n      <td>80.969</td>\n      <td>1DGYmHLYkwyCmvDEL3ctti</td>\n      <td>242893</td>\n      <td>4</td>\n    </tr>\n    <tr>\n      <th>40190</th>\n      <td>182</td>\n      <td>Christmas Lights - Live from Spotify London</td>\n      <td>Coldplay</td>\n      <td>119168</td>\n      <td>https://open.spotify.com/track/4QVdnpSO5JGMFOE...</td>\n      <td>2016-12-23--2016-12-30</td>\n      <td>2016-12-23</td>\n      <td>2016-12-30</td>\n      <td>4QVdnpSO5JGMFOEl6ys4RQ</td>\n      <td>0.295</td>\n      <td>...</td>\n      <td>1</td>\n      <td>0.0327</td>\n      <td>0.207</td>\n      <td>0.000396</td>\n      <td>0.8580</td>\n      <td>0.224</td>\n      <td>132.062</td>\n      <td>4QVdnpSO5JGMFOEl6ys4RQ</td>\n      <td>268521</td>\n      <td>4</td>\n    </tr>\n    <tr>\n      <th>40191</th>\n      <td>195</td>\n      <td>Christmas (Baby Please Come Home)</td>\n      <td>Darlene Love</td>\n      <td>114594</td>\n      <td>https://open.spotify.com/track/46pF1zFimM582ss...</td>\n      <td>2016-12-23--2016-12-30</td>\n      <td>2016-12-23</td>\n      <td>2016-12-30</td>\n      <td>46pF1zFimM582ss1PrMy68</td>\n      <td>0.325</td>\n      <td>...</td>\n      <td>1</td>\n      <td>0.0530</td>\n      <td>0.395</td>\n      <td>0.000362</td>\n      <td>0.0773</td>\n      <td>0.360</td>\n      <td>126.627</td>\n      <td>46pF1zFimM582ss1PrMy68</td>\n      <td>166453</td>\n      <td>4</td>\n    </tr>\n    <tr>\n      <th>40192</th>\n      <td>198</td>\n      <td>Please Come Home for Christmas</td>\n      <td>Luther Vandross</td>\n      <td>113779</td>\n      <td>https://open.spotify.com/track/2mOtx6P21hecOcP...</td>\n      <td>2016-12-23--2016-12-30</td>\n      <td>2016-12-23</td>\n      <td>2016-12-30</td>\n      <td>2mOtx6P21hecOcPoVuZbzF</td>\n      <td>0.611</td>\n      <td>...</td>\n      <td>1</td>\n      <td>0.0236</td>\n      <td>0.750</td>\n      <td>0.000000</td>\n      <td>0.1130</td>\n      <td>0.138</td>\n      <td>99.971</td>\n      <td>2mOtx6P21hecOcPoVuZbzF</td>\n      <td>217840</td>\n      <td>4</td>\n    </tr>\n  </tbody>\n</table>\n<p>40193 rows × 23 columns</p>\n</div>"
     },
     "metadata": {},
     "execution_count": 26
    }
   ],
   "source": [
    "df_merge = pd.merge(df, features, left_on=\"ID\", right_on=\"id\", how=\"inner\")\n",
    "df_merge"
   ]
  },
  {
   "cell_type": "code",
   "execution_count": 27,
   "metadata": {},
   "outputs": [],
   "source": [
    "df_merge.to_csv(\"..\\\\data\\\\processed\\\\top200_2017_2020_w_features.csv\", index=False)"
   ]
  },
  {
   "source": [
    "## 3.\n",
    "## Data Visualization and Modelling\n",
    "## To Do: Normalize features!"
   ],
   "cell_type": "markdown",
   "metadata": {}
  },
  {
   "cell_type": "code",
   "execution_count": 84,
   "metadata": {},
   "outputs": [
    {
     "output_type": "stream",
     "name": "stdout",
     "text": [
      "<class 'pandas.core.frame.DataFrame'>\nRangeIndex: 40193 entries, 0 to 40192\nData columns (total 23 columns):\n #   Column            Non-Null Count  Dtype         \n---  ------            --------------  -----         \n 0   Position          40193 non-null  int64         \n 1   Track Name        40193 non-null  object        \n 2   Artist            40193 non-null  object        \n 3   Streams           40193 non-null  int64         \n 4   URL               40193 non-null  object        \n 5   Date              40193 non-null  object        \n 6   Start Week        40193 non-null  datetime64[ns]\n 7   End Week          40193 non-null  datetime64[ns]\n 8   ID                40193 non-null  object        \n 9   danceability      40193 non-null  float64       \n 10  energy            40193 non-null  float64       \n 11  key               40193 non-null  int64         \n 12  loudness          40193 non-null  float64       \n 13  mode              40193 non-null  int64         \n 14  speechiness       40193 non-null  float64       \n 15  acousticness      40193 non-null  float64       \n 16  instrumentalness  40193 non-null  float64       \n 17  liveness          40193 non-null  float64       \n 18  valence           40193 non-null  float64       \n 19  tempo             40193 non-null  float64       \n 20  id                40193 non-null  object        \n 21  duration_ms       40193 non-null  int64         \n 22  time_signature    40193 non-null  int64         \ndtypes: datetime64[ns](2), float64(9), int64(6), object(6)\nmemory usage: 7.1+ MB\n"
     ]
    }
   ],
   "source": [
    "# Load the data and transform date-time columns\n",
    "df = pd.read_csv(\"..\\\\data\\\\processed\\\\top200_2017_2020_w_features.csv\")\n",
    "df[['Start Week', 'End Week']] = df[['Start Week', 'End Week']].apply(pd.to_datetime, format=\"%Y-%m-%d\")\n",
    "df.info()"
   ]
  },
  {
   "cell_type": "code",
   "execution_count": 95,
   "metadata": {},
   "outputs": [
    {
     "output_type": "execute_result",
     "data": {
      "text/plain": [
       "            danceability    energy      key  loudness     mode  speechiness  \\\n",
       "Start Week                                                                    \n",
       "2016-12-31      0.652360  0.669225  5.47000 -6.434782  0.57250     0.115267   \n",
       "2017-01-31      0.677675  0.679245  5.35250 -6.168275  0.52500     0.126757   \n",
       "2017-02-28      0.680190  0.684178  5.28750 -6.046697  0.53250     0.128803   \n",
       "2017-03-31      0.688275  0.684836  5.42200 -5.885204  0.56600     0.141018   \n",
       "2017-04-30      0.690864  0.690809  5.31375 -5.774167  0.54625     0.147161   \n",
       "\n",
       "            acousticness  instrumentalness  liveness   valence       tempo  \\\n",
       "Start Week                                                                   \n",
       "2016-12-31      0.239128          0.003734  0.173714  0.528089  118.008208   \n",
       "2017-01-31      0.209052          0.006865  0.161820  0.509564  117.173697   \n",
       "2017-02-28      0.199814          0.007220  0.161475  0.516377  117.279955   \n",
       "2017-03-31      0.206340          0.008309  0.161549  0.528210  116.246525   \n",
       "2017-04-30      0.204996          0.006361  0.154938  0.542373  116.230464   \n",
       "\n",
       "            duration_ms     Y   M   D         YMD  \n",
       "Start Week                                         \n",
       "2016-12-31  209940.5325  2016  12  31  2016-12-31  \n",
       "2017-01-31  211221.7875  2017   1  31  2017-01-31  \n",
       "2017-02-28  211037.7325  2017   2  28  2017-02-28  \n",
       "2017-03-31  209765.2090  2017   3  31  2017-03-31  \n",
       "2017-04-30  209821.9625  2017   4  30  2017-04-30  "
      ],
      "text/html": "<div>\n<style scoped>\n    .dataframe tbody tr th:only-of-type {\n        vertical-align: middle;\n    }\n\n    .dataframe tbody tr th {\n        vertical-align: top;\n    }\n\n    .dataframe thead th {\n        text-align: right;\n    }\n</style>\n<table border=\"1\" class=\"dataframe\">\n  <thead>\n    <tr style=\"text-align: right;\">\n      <th></th>\n      <th>danceability</th>\n      <th>energy</th>\n      <th>key</th>\n      <th>loudness</th>\n      <th>mode</th>\n      <th>speechiness</th>\n      <th>acousticness</th>\n      <th>instrumentalness</th>\n      <th>liveness</th>\n      <th>valence</th>\n      <th>tempo</th>\n      <th>duration_ms</th>\n      <th>Y</th>\n      <th>M</th>\n      <th>D</th>\n      <th>YMD</th>\n    </tr>\n    <tr>\n      <th>Start Week</th>\n      <th></th>\n      <th></th>\n      <th></th>\n      <th></th>\n      <th></th>\n      <th></th>\n      <th></th>\n      <th></th>\n      <th></th>\n      <th></th>\n      <th></th>\n      <th></th>\n      <th></th>\n      <th></th>\n      <th></th>\n      <th></th>\n    </tr>\n  </thead>\n  <tbody>\n    <tr>\n      <th>2016-12-31</th>\n      <td>0.652360</td>\n      <td>0.669225</td>\n      <td>5.47000</td>\n      <td>-6.434782</td>\n      <td>0.57250</td>\n      <td>0.115267</td>\n      <td>0.239128</td>\n      <td>0.003734</td>\n      <td>0.173714</td>\n      <td>0.528089</td>\n      <td>118.008208</td>\n      <td>209940.5325</td>\n      <td>2016</td>\n      <td>12</td>\n      <td>31</td>\n      <td>2016-12-31</td>\n    </tr>\n    <tr>\n      <th>2017-01-31</th>\n      <td>0.677675</td>\n      <td>0.679245</td>\n      <td>5.35250</td>\n      <td>-6.168275</td>\n      <td>0.52500</td>\n      <td>0.126757</td>\n      <td>0.209052</td>\n      <td>0.006865</td>\n      <td>0.161820</td>\n      <td>0.509564</td>\n      <td>117.173697</td>\n      <td>211221.7875</td>\n      <td>2017</td>\n      <td>1</td>\n      <td>31</td>\n      <td>2017-01-31</td>\n    </tr>\n    <tr>\n      <th>2017-02-28</th>\n      <td>0.680190</td>\n      <td>0.684178</td>\n      <td>5.28750</td>\n      <td>-6.046697</td>\n      <td>0.53250</td>\n      <td>0.128803</td>\n      <td>0.199814</td>\n      <td>0.007220</td>\n      <td>0.161475</td>\n      <td>0.516377</td>\n      <td>117.279955</td>\n      <td>211037.7325</td>\n      <td>2017</td>\n      <td>2</td>\n      <td>28</td>\n      <td>2017-02-28</td>\n    </tr>\n    <tr>\n      <th>2017-03-31</th>\n      <td>0.688275</td>\n      <td>0.684836</td>\n      <td>5.42200</td>\n      <td>-5.885204</td>\n      <td>0.56600</td>\n      <td>0.141018</td>\n      <td>0.206340</td>\n      <td>0.008309</td>\n      <td>0.161549</td>\n      <td>0.528210</td>\n      <td>116.246525</td>\n      <td>209765.2090</td>\n      <td>2017</td>\n      <td>3</td>\n      <td>31</td>\n      <td>2017-03-31</td>\n    </tr>\n    <tr>\n      <th>2017-04-30</th>\n      <td>0.690864</td>\n      <td>0.690809</td>\n      <td>5.31375</td>\n      <td>-5.774167</td>\n      <td>0.54625</td>\n      <td>0.147161</td>\n      <td>0.204996</td>\n      <td>0.006361</td>\n      <td>0.154938</td>\n      <td>0.542373</td>\n      <td>116.230464</td>\n      <td>209821.9625</td>\n      <td>2017</td>\n      <td>4</td>\n      <td>30</td>\n      <td>2017-04-30</td>\n    </tr>\n  </tbody>\n</table>\n</div>"
     },
     "metadata": {},
     "execution_count": 95
    }
   ],
   "source": [
    "avg_month = df[['Start Week', 'danceability', 'energy', 'key', \n",
    " 'loudness', 'mode', 'speechiness', 'acousticness', \n",
    " 'instrumentalness', 'liveness', 'valence', 'tempo', \n",
    " 'duration_ms']].groupby(pd.Grouper(key=\"Start Week\", freq='M')).mean()\n",
    "\n",
    "avg_month[\"Y\"] = avg_month.index.year\n",
    "avg_month[\"M\"] = avg_month.index.month\n",
    "avg_month[\"D\"] = avg_month.index.day\n",
    "avg_month[\"YMD\"] = avg_month.index.date\n",
    "\n",
    "avg_month.head()"
   ]
  },
  {
   "cell_type": "code",
   "execution_count": 90,
   "metadata": {},
   "outputs": [
    {
     "output_type": "display_data",
     "data": {
      "application/vnd.plotly.v1+json": {
       "config": {
        "plotlyServerURL": "https://plot.ly"
       },
       "data": [
        {
         "hovertemplate": "Y=2016<br>M=%{x}<br>energy=%{y}<extra></extra>",
         "legendgroup": "2016",
         "line": {
          "color": "#636efa",
          "dash": "solid"
         },
         "mode": "lines",
         "name": "2016",
         "orientation": "v",
         "showlegend": true,
         "type": "scatter",
         "x": [
          12
         ],
         "xaxis": "x",
         "y": [
          0.6692249999999994
         ],
         "yaxis": "y"
        },
        {
         "hovertemplate": "Y=2017<br>M=%{x}<br>energy=%{y}<extra></extra>",
         "legendgroup": "2017",
         "line": {
          "color": "#EF553B",
          "dash": "solid"
         },
         "mode": "lines",
         "name": "2017",
         "orientation": "v",
         "showlegend": true,
         "type": "scatter",
         "x": [
          1,
          2,
          3,
          4,
          5,
          6,
          7,
          8,
          9,
          10,
          11,
          12
         ],
         "xaxis": "x",
         "y": [
          0.6792445,
          0.6841782499999993,
          0.6848358999999997,
          0.6908087499999995,
          0.6927911249999995,
          0.6989479479479486,
          0.7031934673366835,
          0.7079449999999988,
          0.7031819999999994,
          0.6843279098873597,
          0.6722127659574473,
          0.6584454
         ],
         "yaxis": "y"
        },
        {
         "hovertemplate": "Y=2018<br>M=%{x}<br>energy=%{y}<extra></extra>",
         "legendgroup": "2018",
         "line": {
          "color": "#00cc96",
          "dash": "solid"
         },
         "mode": "lines",
         "name": "2018",
         "orientation": "v",
         "showlegend": true,
         "type": "scatter",
         "x": [
          1,
          2,
          3,
          4,
          5,
          6,
          7,
          8,
          9,
          10,
          11,
          12
         ],
         "xaxis": "x",
         "y": [
          0.6671862499999994,
          0.6680775000000003,
          0.6589020000000002,
          0.6695425,
          0.6606425000000005,
          0.6517209999999998,
          0.66642125,
          0.6642859999999995,
          0.6613149999999992,
          0.6588533749999993,
          0.64576,
          0.6220292499999992
         ],
         "yaxis": "y"
        },
        {
         "hovertemplate": "Y=2019<br>M=%{x}<br>energy=%{y}<extra></extra>",
         "legendgroup": "2019",
         "line": {
          "color": "#ab63fa",
          "dash": "solid"
         },
         "mode": "lines",
         "name": "2019",
         "orientation": "v",
         "showlegend": true,
         "type": "scatter",
         "x": [
          1,
          2,
          3,
          4,
          5,
          6,
          7,
          8,
          9,
          10,
          11,
          12
         ],
         "xaxis": "x",
         "y": [
          0.635915,
          0.6305899999999995,
          0.6296850999999993,
          0.6423601249999996,
          0.6580290000000001,
          0.6618274999999997,
          0.6461599999999993,
          0.6474180000000002,
          0.6483137500000011,
          0.642230000000001,
          0.625885,
          0.6066505000000005
         ],
         "yaxis": "y"
        },
        {
         "hovertemplate": "Y=2020<br>M=%{x}<br>energy=%{y}<extra></extra>",
         "legendgroup": "2020",
         "line": {
          "color": "#FFA15A",
          "dash": "solid"
         },
         "mode": "lines",
         "name": "2020",
         "orientation": "v",
         "showlegend": true,
         "type": "scatter",
         "x": [
          1,
          2,
          3,
          4,
          5,
          6,
          7,
          8,
          9,
          10
         ],
         "xaxis": "x",
         "y": [
          0.6117726,
          0.6082712500000007,
          0.6103799999999999,
          0.6122162500000004,
          0.6265440000000013,
          0.6288850000000008,
          0.634858000000001,
          0.6321025000000009,
          0.6180550000000005,
          0.6020672500000002
         ],
         "yaxis": "y"
        }
       ],
       "layout": {
        "legend": {
         "title": {
          "text": "Y"
         },
         "tracegroupgap": 0
        },
        "margin": {
         "t": 60
        },
        "template": {
         "data": {
          "bar": [
           {
            "error_x": {
             "color": "#2a3f5f"
            },
            "error_y": {
             "color": "#2a3f5f"
            },
            "marker": {
             "line": {
              "color": "#E5ECF6",
              "width": 0.5
             }
            },
            "type": "bar"
           }
          ],
          "barpolar": [
           {
            "marker": {
             "line": {
              "color": "#E5ECF6",
              "width": 0.5
             }
            },
            "type": "barpolar"
           }
          ],
          "carpet": [
           {
            "aaxis": {
             "endlinecolor": "#2a3f5f",
             "gridcolor": "white",
             "linecolor": "white",
             "minorgridcolor": "white",
             "startlinecolor": "#2a3f5f"
            },
            "baxis": {
             "endlinecolor": "#2a3f5f",
             "gridcolor": "white",
             "linecolor": "white",
             "minorgridcolor": "white",
             "startlinecolor": "#2a3f5f"
            },
            "type": "carpet"
           }
          ],
          "choropleth": [
           {
            "colorbar": {
             "outlinewidth": 0,
             "ticks": ""
            },
            "type": "choropleth"
           }
          ],
          "contour": [
           {
            "colorbar": {
             "outlinewidth": 0,
             "ticks": ""
            },
            "colorscale": [
             [
              0,
              "#0d0887"
             ],
             [
              0.1111111111111111,
              "#46039f"
             ],
             [
              0.2222222222222222,
              "#7201a8"
             ],
             [
              0.3333333333333333,
              "#9c179e"
             ],
             [
              0.4444444444444444,
              "#bd3786"
             ],
             [
              0.5555555555555556,
              "#d8576b"
             ],
             [
              0.6666666666666666,
              "#ed7953"
             ],
             [
              0.7777777777777778,
              "#fb9f3a"
             ],
             [
              0.8888888888888888,
              "#fdca26"
             ],
             [
              1,
              "#f0f921"
             ]
            ],
            "type": "contour"
           }
          ],
          "contourcarpet": [
           {
            "colorbar": {
             "outlinewidth": 0,
             "ticks": ""
            },
            "type": "contourcarpet"
           }
          ],
          "heatmap": [
           {
            "colorbar": {
             "outlinewidth": 0,
             "ticks": ""
            },
            "colorscale": [
             [
              0,
              "#0d0887"
             ],
             [
              0.1111111111111111,
              "#46039f"
             ],
             [
              0.2222222222222222,
              "#7201a8"
             ],
             [
              0.3333333333333333,
              "#9c179e"
             ],
             [
              0.4444444444444444,
              "#bd3786"
             ],
             [
              0.5555555555555556,
              "#d8576b"
             ],
             [
              0.6666666666666666,
              "#ed7953"
             ],
             [
              0.7777777777777778,
              "#fb9f3a"
             ],
             [
              0.8888888888888888,
              "#fdca26"
             ],
             [
              1,
              "#f0f921"
             ]
            ],
            "type": "heatmap"
           }
          ],
          "heatmapgl": [
           {
            "colorbar": {
             "outlinewidth": 0,
             "ticks": ""
            },
            "colorscale": [
             [
              0,
              "#0d0887"
             ],
             [
              0.1111111111111111,
              "#46039f"
             ],
             [
              0.2222222222222222,
              "#7201a8"
             ],
             [
              0.3333333333333333,
              "#9c179e"
             ],
             [
              0.4444444444444444,
              "#bd3786"
             ],
             [
              0.5555555555555556,
              "#d8576b"
             ],
             [
              0.6666666666666666,
              "#ed7953"
             ],
             [
              0.7777777777777778,
              "#fb9f3a"
             ],
             [
              0.8888888888888888,
              "#fdca26"
             ],
             [
              1,
              "#f0f921"
             ]
            ],
            "type": "heatmapgl"
           }
          ],
          "histogram": [
           {
            "marker": {
             "colorbar": {
              "outlinewidth": 0,
              "ticks": ""
             }
            },
            "type": "histogram"
           }
          ],
          "histogram2d": [
           {
            "colorbar": {
             "outlinewidth": 0,
             "ticks": ""
            },
            "colorscale": [
             [
              0,
              "#0d0887"
             ],
             [
              0.1111111111111111,
              "#46039f"
             ],
             [
              0.2222222222222222,
              "#7201a8"
             ],
             [
              0.3333333333333333,
              "#9c179e"
             ],
             [
              0.4444444444444444,
              "#bd3786"
             ],
             [
              0.5555555555555556,
              "#d8576b"
             ],
             [
              0.6666666666666666,
              "#ed7953"
             ],
             [
              0.7777777777777778,
              "#fb9f3a"
             ],
             [
              0.8888888888888888,
              "#fdca26"
             ],
             [
              1,
              "#f0f921"
             ]
            ],
            "type": "histogram2d"
           }
          ],
          "histogram2dcontour": [
           {
            "colorbar": {
             "outlinewidth": 0,
             "ticks": ""
            },
            "colorscale": [
             [
              0,
              "#0d0887"
             ],
             [
              0.1111111111111111,
              "#46039f"
             ],
             [
              0.2222222222222222,
              "#7201a8"
             ],
             [
              0.3333333333333333,
              "#9c179e"
             ],
             [
              0.4444444444444444,
              "#bd3786"
             ],
             [
              0.5555555555555556,
              "#d8576b"
             ],
             [
              0.6666666666666666,
              "#ed7953"
             ],
             [
              0.7777777777777778,
              "#fb9f3a"
             ],
             [
              0.8888888888888888,
              "#fdca26"
             ],
             [
              1,
              "#f0f921"
             ]
            ],
            "type": "histogram2dcontour"
           }
          ],
          "mesh3d": [
           {
            "colorbar": {
             "outlinewidth": 0,
             "ticks": ""
            },
            "type": "mesh3d"
           }
          ],
          "parcoords": [
           {
            "line": {
             "colorbar": {
              "outlinewidth": 0,
              "ticks": ""
             }
            },
            "type": "parcoords"
           }
          ],
          "pie": [
           {
            "automargin": true,
            "type": "pie"
           }
          ],
          "scatter": [
           {
            "marker": {
             "colorbar": {
              "outlinewidth": 0,
              "ticks": ""
             }
            },
            "type": "scatter"
           }
          ],
          "scatter3d": [
           {
            "line": {
             "colorbar": {
              "outlinewidth": 0,
              "ticks": ""
             }
            },
            "marker": {
             "colorbar": {
              "outlinewidth": 0,
              "ticks": ""
             }
            },
            "type": "scatter3d"
           }
          ],
          "scattercarpet": [
           {
            "marker": {
             "colorbar": {
              "outlinewidth": 0,
              "ticks": ""
             }
            },
            "type": "scattercarpet"
           }
          ],
          "scattergeo": [
           {
            "marker": {
             "colorbar": {
              "outlinewidth": 0,
              "ticks": ""
             }
            },
            "type": "scattergeo"
           }
          ],
          "scattergl": [
           {
            "marker": {
             "colorbar": {
              "outlinewidth": 0,
              "ticks": ""
             }
            },
            "type": "scattergl"
           }
          ],
          "scattermapbox": [
           {
            "marker": {
             "colorbar": {
              "outlinewidth": 0,
              "ticks": ""
             }
            },
            "type": "scattermapbox"
           }
          ],
          "scatterpolar": [
           {
            "marker": {
             "colorbar": {
              "outlinewidth": 0,
              "ticks": ""
             }
            },
            "type": "scatterpolar"
           }
          ],
          "scatterpolargl": [
           {
            "marker": {
             "colorbar": {
              "outlinewidth": 0,
              "ticks": ""
             }
            },
            "type": "scatterpolargl"
           }
          ],
          "scatterternary": [
           {
            "marker": {
             "colorbar": {
              "outlinewidth": 0,
              "ticks": ""
             }
            },
            "type": "scatterternary"
           }
          ],
          "surface": [
           {
            "colorbar": {
             "outlinewidth": 0,
             "ticks": ""
            },
            "colorscale": [
             [
              0,
              "#0d0887"
             ],
             [
              0.1111111111111111,
              "#46039f"
             ],
             [
              0.2222222222222222,
              "#7201a8"
             ],
             [
              0.3333333333333333,
              "#9c179e"
             ],
             [
              0.4444444444444444,
              "#bd3786"
             ],
             [
              0.5555555555555556,
              "#d8576b"
             ],
             [
              0.6666666666666666,
              "#ed7953"
             ],
             [
              0.7777777777777778,
              "#fb9f3a"
             ],
             [
              0.8888888888888888,
              "#fdca26"
             ],
             [
              1,
              "#f0f921"
             ]
            ],
            "type": "surface"
           }
          ],
          "table": [
           {
            "cells": {
             "fill": {
              "color": "#EBF0F8"
             },
             "line": {
              "color": "white"
             }
            },
            "header": {
             "fill": {
              "color": "#C8D4E3"
             },
             "line": {
              "color": "white"
             }
            },
            "type": "table"
           }
          ]
         },
         "layout": {
          "annotationdefaults": {
           "arrowcolor": "#2a3f5f",
           "arrowhead": 0,
           "arrowwidth": 1
          },
          "coloraxis": {
           "colorbar": {
            "outlinewidth": 0,
            "ticks": ""
           }
          },
          "colorscale": {
           "diverging": [
            [
             0,
             "#8e0152"
            ],
            [
             0.1,
             "#c51b7d"
            ],
            [
             0.2,
             "#de77ae"
            ],
            [
             0.3,
             "#f1b6da"
            ],
            [
             0.4,
             "#fde0ef"
            ],
            [
             0.5,
             "#f7f7f7"
            ],
            [
             0.6,
             "#e6f5d0"
            ],
            [
             0.7,
             "#b8e186"
            ],
            [
             0.8,
             "#7fbc41"
            ],
            [
             0.9,
             "#4d9221"
            ],
            [
             1,
             "#276419"
            ]
           ],
           "sequential": [
            [
             0,
             "#0d0887"
            ],
            [
             0.1111111111111111,
             "#46039f"
            ],
            [
             0.2222222222222222,
             "#7201a8"
            ],
            [
             0.3333333333333333,
             "#9c179e"
            ],
            [
             0.4444444444444444,
             "#bd3786"
            ],
            [
             0.5555555555555556,
             "#d8576b"
            ],
            [
             0.6666666666666666,
             "#ed7953"
            ],
            [
             0.7777777777777778,
             "#fb9f3a"
            ],
            [
             0.8888888888888888,
             "#fdca26"
            ],
            [
             1,
             "#f0f921"
            ]
           ],
           "sequentialminus": [
            [
             0,
             "#0d0887"
            ],
            [
             0.1111111111111111,
             "#46039f"
            ],
            [
             0.2222222222222222,
             "#7201a8"
            ],
            [
             0.3333333333333333,
             "#9c179e"
            ],
            [
             0.4444444444444444,
             "#bd3786"
            ],
            [
             0.5555555555555556,
             "#d8576b"
            ],
            [
             0.6666666666666666,
             "#ed7953"
            ],
            [
             0.7777777777777778,
             "#fb9f3a"
            ],
            [
             0.8888888888888888,
             "#fdca26"
            ],
            [
             1,
             "#f0f921"
            ]
           ]
          },
          "colorway": [
           "#636efa",
           "#EF553B",
           "#00cc96",
           "#ab63fa",
           "#FFA15A",
           "#19d3f3",
           "#FF6692",
           "#B6E880",
           "#FF97FF",
           "#FECB52"
          ],
          "font": {
           "color": "#2a3f5f"
          },
          "geo": {
           "bgcolor": "white",
           "lakecolor": "white",
           "landcolor": "#E5ECF6",
           "showlakes": true,
           "showland": true,
           "subunitcolor": "white"
          },
          "hoverlabel": {
           "align": "left"
          },
          "hovermode": "closest",
          "mapbox": {
           "style": "light"
          },
          "paper_bgcolor": "white",
          "plot_bgcolor": "#E5ECF6",
          "polar": {
           "angularaxis": {
            "gridcolor": "white",
            "linecolor": "white",
            "ticks": ""
           },
           "bgcolor": "#E5ECF6",
           "radialaxis": {
            "gridcolor": "white",
            "linecolor": "white",
            "ticks": ""
           }
          },
          "scene": {
           "xaxis": {
            "backgroundcolor": "#E5ECF6",
            "gridcolor": "white",
            "gridwidth": 2,
            "linecolor": "white",
            "showbackground": true,
            "ticks": "",
            "zerolinecolor": "white"
           },
           "yaxis": {
            "backgroundcolor": "#E5ECF6",
            "gridcolor": "white",
            "gridwidth": 2,
            "linecolor": "white",
            "showbackground": true,
            "ticks": "",
            "zerolinecolor": "white"
           },
           "zaxis": {
            "backgroundcolor": "#E5ECF6",
            "gridcolor": "white",
            "gridwidth": 2,
            "linecolor": "white",
            "showbackground": true,
            "ticks": "",
            "zerolinecolor": "white"
           }
          },
          "shapedefaults": {
           "line": {
            "color": "#2a3f5f"
           }
          },
          "ternary": {
           "aaxis": {
            "gridcolor": "white",
            "linecolor": "white",
            "ticks": ""
           },
           "baxis": {
            "gridcolor": "white",
            "linecolor": "white",
            "ticks": ""
           },
           "bgcolor": "#E5ECF6",
           "caxis": {
            "gridcolor": "white",
            "linecolor": "white",
            "ticks": ""
           }
          },
          "title": {
           "x": 0.05
          },
          "xaxis": {
           "automargin": true,
           "gridcolor": "white",
           "linecolor": "white",
           "ticks": "",
           "title": {
            "standoff": 15
           },
           "zerolinecolor": "white",
           "zerolinewidth": 2
          },
          "yaxis": {
           "automargin": true,
           "gridcolor": "white",
           "linecolor": "white",
           "ticks": "",
           "title": {
            "standoff": 15
           },
           "zerolinecolor": "white",
           "zerolinewidth": 2
          }
         }
        },
        "xaxis": {
         "anchor": "y",
         "domain": [
          0,
          1
         ],
         "title": {
          "text": "M"
         }
        },
        "yaxis": {
         "anchor": "x",
         "domain": [
          0,
          1
         ],
         "title": {
          "text": "energy"
         }
        }
       }
      }
     },
     "metadata": {}
    }
   ],
   "source": [
    "import plotly.express as px\n",
    "\n",
    "fig = px.line(avg_month, x=\"M\", y=\"energy\", color='Y')\n",
    "fig.show()"
   ]
  },
  {
   "cell_type": "code",
   "execution_count": 94,
   "metadata": {},
   "outputs": [
    {
     "output_type": "display_data",
     "data": {
      "application/vnd.plotly.v1+json": {
       "config": {
        "plotlyServerURL": "https://plot.ly"
       },
       "data": [
        {
         "hovertemplate": "Y=2016<br>YMD=%{x}<br>danceability=%{y}<extra></extra>",
         "legendgroup": "2016",
         "line": {
          "color": "#636efa",
          "dash": "solid"
         },
         "mode": "lines",
         "name": "2016",
         "orientation": "v",
         "showlegend": true,
         "type": "scatter",
         "x": [
          "2016-12-31"
         ],
         "xaxis": "x",
         "y": [
          0.6523599999999997
         ],
         "yaxis": "y"
        },
        {
         "hovertemplate": "Y=2017<br>YMD=%{x}<br>danceability=%{y}<extra></extra>",
         "legendgroup": "2017",
         "line": {
          "color": "#EF553B",
          "dash": "solid"
         },
         "mode": "lines",
         "name": "2017",
         "orientation": "v",
         "showlegend": true,
         "type": "scatter",
         "x": [
          "2017-01-31",
          "2017-02-28",
          "2017-03-31",
          "2017-04-30",
          "2017-05-31",
          "2017-06-30",
          "2017-07-31",
          "2017-08-31",
          "2017-09-30",
          "2017-10-31",
          "2017-11-30",
          "2017-12-31"
         ],
         "xaxis": "x",
         "y": [
          0.6776750000000012,
          0.6801900000000007,
          0.6882750000000004,
          0.69086375,
          0.6991662500000004,
          0.7074714714714714,
          0.7205540201005023,
          0.7251849999999999,
          0.732315,
          0.7303279098873589,
          0.7272102628285352,
          0.699346
         ],
         "yaxis": "y"
        },
        {
         "hovertemplate": "Y=2018<br>YMD=%{x}<br>danceability=%{y}<extra></extra>",
         "legendgroup": "2018",
         "line": {
          "color": "#00cc96",
          "dash": "solid"
         },
         "mode": "lines",
         "name": "2018",
         "orientation": "v",
         "showlegend": true,
         "type": "scatter",
         "x": [
          "2018-01-31",
          "2018-02-28",
          "2018-03-31",
          "2018-04-30",
          "2018-05-31",
          "2018-06-30",
          "2018-07-31",
          "2018-08-31",
          "2018-09-30",
          "2018-10-31",
          "2018-11-30",
          "2018-12-31"
         ],
         "xaxis": "x",
         "y": [
          0.716559999999999,
          0.7210037499999984,
          0.7111249999999993,
          0.7161349999999989,
          0.7194787499999997,
          0.7291839999999995,
          0.7282912500000005,
          0.7199589999999996,
          0.7259375,
          0.7179724999999997,
          0.7023589999999993,
          0.6714175000000001
         ],
         "yaxis": "y"
        },
        {
         "hovertemplate": "Y=2019<br>YMD=%{x}<br>danceability=%{y}<extra></extra>",
         "legendgroup": "2019",
         "line": {
          "color": "#ab63fa",
          "dash": "solid"
         },
         "mode": "lines",
         "name": "2019",
         "orientation": "v",
         "showlegend": true,
         "type": "scatter",
         "x": [
          "2019-01-31",
          "2019-02-28",
          "2019-03-31",
          "2019-04-30",
          "2019-05-31",
          "2019-06-30",
          "2019-07-31",
          "2019-08-31",
          "2019-09-30",
          "2019-10-31",
          "2019-11-30",
          "2019-12-31"
         ],
         "xaxis": "x",
         "y": [
          0.7058437500000002,
          0.7108512499999999,
          0.7098629999999989,
          0.7053824999999994,
          0.6914219999999993,
          0.7044862499999993,
          0.709236249999999,
          0.704198999999999,
          0.7045374999999987,
          0.6899887499999994,
          0.6794269999999996,
          0.6515437500000002
         ],
         "yaxis": "y"
        },
        {
         "hovertemplate": "Y=2020<br>YMD=%{x}<br>danceability=%{y}<extra></extra>",
         "legendgroup": "2020",
         "line": {
          "color": "#FFA15A",
          "dash": "solid"
         },
         "mode": "lines",
         "name": "2020",
         "orientation": "v",
         "showlegend": true,
         "type": "scatter",
         "x": [
          "2020-01-31",
          "2020-02-29",
          "2020-03-31",
          "2020-04-30",
          "2020-05-31",
          "2020-06-30",
          "2020-07-31",
          "2020-08-31",
          "2020-09-30",
          "2020-10-31"
         ],
         "xaxis": "x",
         "y": [
          0.6892779999999996,
          0.6788449999999997,
          0.6860049999999994,
          0.6983737499999989,
          0.6958869999999993,
          0.7001200000000002,
          0.6960240000000011,
          0.6944700000000005,
          0.69065,
          0.6751562500000005
         ],
         "yaxis": "y"
        }
       ],
       "layout": {
        "legend": {
         "title": {
          "text": "Y"
         },
         "tracegroupgap": 0
        },
        "margin": {
         "t": 60
        },
        "template": {
         "data": {
          "bar": [
           {
            "error_x": {
             "color": "#2a3f5f"
            },
            "error_y": {
             "color": "#2a3f5f"
            },
            "marker": {
             "line": {
              "color": "#E5ECF6",
              "width": 0.5
             }
            },
            "type": "bar"
           }
          ],
          "barpolar": [
           {
            "marker": {
             "line": {
              "color": "#E5ECF6",
              "width": 0.5
             }
            },
            "type": "barpolar"
           }
          ],
          "carpet": [
           {
            "aaxis": {
             "endlinecolor": "#2a3f5f",
             "gridcolor": "white",
             "linecolor": "white",
             "minorgridcolor": "white",
             "startlinecolor": "#2a3f5f"
            },
            "baxis": {
             "endlinecolor": "#2a3f5f",
             "gridcolor": "white",
             "linecolor": "white",
             "minorgridcolor": "white",
             "startlinecolor": "#2a3f5f"
            },
            "type": "carpet"
           }
          ],
          "choropleth": [
           {
            "colorbar": {
             "outlinewidth": 0,
             "ticks": ""
            },
            "type": "choropleth"
           }
          ],
          "contour": [
           {
            "colorbar": {
             "outlinewidth": 0,
             "ticks": ""
            },
            "colorscale": [
             [
              0,
              "#0d0887"
             ],
             [
              0.1111111111111111,
              "#46039f"
             ],
             [
              0.2222222222222222,
              "#7201a8"
             ],
             [
              0.3333333333333333,
              "#9c179e"
             ],
             [
              0.4444444444444444,
              "#bd3786"
             ],
             [
              0.5555555555555556,
              "#d8576b"
             ],
             [
              0.6666666666666666,
              "#ed7953"
             ],
             [
              0.7777777777777778,
              "#fb9f3a"
             ],
             [
              0.8888888888888888,
              "#fdca26"
             ],
             [
              1,
              "#f0f921"
             ]
            ],
            "type": "contour"
           }
          ],
          "contourcarpet": [
           {
            "colorbar": {
             "outlinewidth": 0,
             "ticks": ""
            },
            "type": "contourcarpet"
           }
          ],
          "heatmap": [
           {
            "colorbar": {
             "outlinewidth": 0,
             "ticks": ""
            },
            "colorscale": [
             [
              0,
              "#0d0887"
             ],
             [
              0.1111111111111111,
              "#46039f"
             ],
             [
              0.2222222222222222,
              "#7201a8"
             ],
             [
              0.3333333333333333,
              "#9c179e"
             ],
             [
              0.4444444444444444,
              "#bd3786"
             ],
             [
              0.5555555555555556,
              "#d8576b"
             ],
             [
              0.6666666666666666,
              "#ed7953"
             ],
             [
              0.7777777777777778,
              "#fb9f3a"
             ],
             [
              0.8888888888888888,
              "#fdca26"
             ],
             [
              1,
              "#f0f921"
             ]
            ],
            "type": "heatmap"
           }
          ],
          "heatmapgl": [
           {
            "colorbar": {
             "outlinewidth": 0,
             "ticks": ""
            },
            "colorscale": [
             [
              0,
              "#0d0887"
             ],
             [
              0.1111111111111111,
              "#46039f"
             ],
             [
              0.2222222222222222,
              "#7201a8"
             ],
             [
              0.3333333333333333,
              "#9c179e"
             ],
             [
              0.4444444444444444,
              "#bd3786"
             ],
             [
              0.5555555555555556,
              "#d8576b"
             ],
             [
              0.6666666666666666,
              "#ed7953"
             ],
             [
              0.7777777777777778,
              "#fb9f3a"
             ],
             [
              0.8888888888888888,
              "#fdca26"
             ],
             [
              1,
              "#f0f921"
             ]
            ],
            "type": "heatmapgl"
           }
          ],
          "histogram": [
           {
            "marker": {
             "colorbar": {
              "outlinewidth": 0,
              "ticks": ""
             }
            },
            "type": "histogram"
           }
          ],
          "histogram2d": [
           {
            "colorbar": {
             "outlinewidth": 0,
             "ticks": ""
            },
            "colorscale": [
             [
              0,
              "#0d0887"
             ],
             [
              0.1111111111111111,
              "#46039f"
             ],
             [
              0.2222222222222222,
              "#7201a8"
             ],
             [
              0.3333333333333333,
              "#9c179e"
             ],
             [
              0.4444444444444444,
              "#bd3786"
             ],
             [
              0.5555555555555556,
              "#d8576b"
             ],
             [
              0.6666666666666666,
              "#ed7953"
             ],
             [
              0.7777777777777778,
              "#fb9f3a"
             ],
             [
              0.8888888888888888,
              "#fdca26"
             ],
             [
              1,
              "#f0f921"
             ]
            ],
            "type": "histogram2d"
           }
          ],
          "histogram2dcontour": [
           {
            "colorbar": {
             "outlinewidth": 0,
             "ticks": ""
            },
            "colorscale": [
             [
              0,
              "#0d0887"
             ],
             [
              0.1111111111111111,
              "#46039f"
             ],
             [
              0.2222222222222222,
              "#7201a8"
             ],
             [
              0.3333333333333333,
              "#9c179e"
             ],
             [
              0.4444444444444444,
              "#bd3786"
             ],
             [
              0.5555555555555556,
              "#d8576b"
             ],
             [
              0.6666666666666666,
              "#ed7953"
             ],
             [
              0.7777777777777778,
              "#fb9f3a"
             ],
             [
              0.8888888888888888,
              "#fdca26"
             ],
             [
              1,
              "#f0f921"
             ]
            ],
            "type": "histogram2dcontour"
           }
          ],
          "mesh3d": [
           {
            "colorbar": {
             "outlinewidth": 0,
             "ticks": ""
            },
            "type": "mesh3d"
           }
          ],
          "parcoords": [
           {
            "line": {
             "colorbar": {
              "outlinewidth": 0,
              "ticks": ""
             }
            },
            "type": "parcoords"
           }
          ],
          "pie": [
           {
            "automargin": true,
            "type": "pie"
           }
          ],
          "scatter": [
           {
            "marker": {
             "colorbar": {
              "outlinewidth": 0,
              "ticks": ""
             }
            },
            "type": "scatter"
           }
          ],
          "scatter3d": [
           {
            "line": {
             "colorbar": {
              "outlinewidth": 0,
              "ticks": ""
             }
            },
            "marker": {
             "colorbar": {
              "outlinewidth": 0,
              "ticks": ""
             }
            },
            "type": "scatter3d"
           }
          ],
          "scattercarpet": [
           {
            "marker": {
             "colorbar": {
              "outlinewidth": 0,
              "ticks": ""
             }
            },
            "type": "scattercarpet"
           }
          ],
          "scattergeo": [
           {
            "marker": {
             "colorbar": {
              "outlinewidth": 0,
              "ticks": ""
             }
            },
            "type": "scattergeo"
           }
          ],
          "scattergl": [
           {
            "marker": {
             "colorbar": {
              "outlinewidth": 0,
              "ticks": ""
             }
            },
            "type": "scattergl"
           }
          ],
          "scattermapbox": [
           {
            "marker": {
             "colorbar": {
              "outlinewidth": 0,
              "ticks": ""
             }
            },
            "type": "scattermapbox"
           }
          ],
          "scatterpolar": [
           {
            "marker": {
             "colorbar": {
              "outlinewidth": 0,
              "ticks": ""
             }
            },
            "type": "scatterpolar"
           }
          ],
          "scatterpolargl": [
           {
            "marker": {
             "colorbar": {
              "outlinewidth": 0,
              "ticks": ""
             }
            },
            "type": "scatterpolargl"
           }
          ],
          "scatterternary": [
           {
            "marker": {
             "colorbar": {
              "outlinewidth": 0,
              "ticks": ""
             }
            },
            "type": "scatterternary"
           }
          ],
          "surface": [
           {
            "colorbar": {
             "outlinewidth": 0,
             "ticks": ""
            },
            "colorscale": [
             [
              0,
              "#0d0887"
             ],
             [
              0.1111111111111111,
              "#46039f"
             ],
             [
              0.2222222222222222,
              "#7201a8"
             ],
             [
              0.3333333333333333,
              "#9c179e"
             ],
             [
              0.4444444444444444,
              "#bd3786"
             ],
             [
              0.5555555555555556,
              "#d8576b"
             ],
             [
              0.6666666666666666,
              "#ed7953"
             ],
             [
              0.7777777777777778,
              "#fb9f3a"
             ],
             [
              0.8888888888888888,
              "#fdca26"
             ],
             [
              1,
              "#f0f921"
             ]
            ],
            "type": "surface"
           }
          ],
          "table": [
           {
            "cells": {
             "fill": {
              "color": "#EBF0F8"
             },
             "line": {
              "color": "white"
             }
            },
            "header": {
             "fill": {
              "color": "#C8D4E3"
             },
             "line": {
              "color": "white"
             }
            },
            "type": "table"
           }
          ]
         },
         "layout": {
          "annotationdefaults": {
           "arrowcolor": "#2a3f5f",
           "arrowhead": 0,
           "arrowwidth": 1
          },
          "coloraxis": {
           "colorbar": {
            "outlinewidth": 0,
            "ticks": ""
           }
          },
          "colorscale": {
           "diverging": [
            [
             0,
             "#8e0152"
            ],
            [
             0.1,
             "#c51b7d"
            ],
            [
             0.2,
             "#de77ae"
            ],
            [
             0.3,
             "#f1b6da"
            ],
            [
             0.4,
             "#fde0ef"
            ],
            [
             0.5,
             "#f7f7f7"
            ],
            [
             0.6,
             "#e6f5d0"
            ],
            [
             0.7,
             "#b8e186"
            ],
            [
             0.8,
             "#7fbc41"
            ],
            [
             0.9,
             "#4d9221"
            ],
            [
             1,
             "#276419"
            ]
           ],
           "sequential": [
            [
             0,
             "#0d0887"
            ],
            [
             0.1111111111111111,
             "#46039f"
            ],
            [
             0.2222222222222222,
             "#7201a8"
            ],
            [
             0.3333333333333333,
             "#9c179e"
            ],
            [
             0.4444444444444444,
             "#bd3786"
            ],
            [
             0.5555555555555556,
             "#d8576b"
            ],
            [
             0.6666666666666666,
             "#ed7953"
            ],
            [
             0.7777777777777778,
             "#fb9f3a"
            ],
            [
             0.8888888888888888,
             "#fdca26"
            ],
            [
             1,
             "#f0f921"
            ]
           ],
           "sequentialminus": [
            [
             0,
             "#0d0887"
            ],
            [
             0.1111111111111111,
             "#46039f"
            ],
            [
             0.2222222222222222,
             "#7201a8"
            ],
            [
             0.3333333333333333,
             "#9c179e"
            ],
            [
             0.4444444444444444,
             "#bd3786"
            ],
            [
             0.5555555555555556,
             "#d8576b"
            ],
            [
             0.6666666666666666,
             "#ed7953"
            ],
            [
             0.7777777777777778,
             "#fb9f3a"
            ],
            [
             0.8888888888888888,
             "#fdca26"
            ],
            [
             1,
             "#f0f921"
            ]
           ]
          },
          "colorway": [
           "#636efa",
           "#EF553B",
           "#00cc96",
           "#ab63fa",
           "#FFA15A",
           "#19d3f3",
           "#FF6692",
           "#B6E880",
           "#FF97FF",
           "#FECB52"
          ],
          "font": {
           "color": "#2a3f5f"
          },
          "geo": {
           "bgcolor": "white",
           "lakecolor": "white",
           "landcolor": "#E5ECF6",
           "showlakes": true,
           "showland": true,
           "subunitcolor": "white"
          },
          "hoverlabel": {
           "align": "left"
          },
          "hovermode": "closest",
          "mapbox": {
           "style": "light"
          },
          "paper_bgcolor": "white",
          "plot_bgcolor": "#E5ECF6",
          "polar": {
           "angularaxis": {
            "gridcolor": "white",
            "linecolor": "white",
            "ticks": ""
           },
           "bgcolor": "#E5ECF6",
           "radialaxis": {
            "gridcolor": "white",
            "linecolor": "white",
            "ticks": ""
           }
          },
          "scene": {
           "xaxis": {
            "backgroundcolor": "#E5ECF6",
            "gridcolor": "white",
            "gridwidth": 2,
            "linecolor": "white",
            "showbackground": true,
            "ticks": "",
            "zerolinecolor": "white"
           },
           "yaxis": {
            "backgroundcolor": "#E5ECF6",
            "gridcolor": "white",
            "gridwidth": 2,
            "linecolor": "white",
            "showbackground": true,
            "ticks": "",
            "zerolinecolor": "white"
           },
           "zaxis": {
            "backgroundcolor": "#E5ECF6",
            "gridcolor": "white",
            "gridwidth": 2,
            "linecolor": "white",
            "showbackground": true,
            "ticks": "",
            "zerolinecolor": "white"
           }
          },
          "shapedefaults": {
           "line": {
            "color": "#2a3f5f"
           }
          },
          "ternary": {
           "aaxis": {
            "gridcolor": "white",
            "linecolor": "white",
            "ticks": ""
           },
           "baxis": {
            "gridcolor": "white",
            "linecolor": "white",
            "ticks": ""
           },
           "bgcolor": "#E5ECF6",
           "caxis": {
            "gridcolor": "white",
            "linecolor": "white",
            "ticks": ""
           }
          },
          "title": {
           "x": 0.05
          },
          "xaxis": {
           "automargin": true,
           "gridcolor": "white",
           "linecolor": "white",
           "ticks": "",
           "title": {
            "standoff": 15
           },
           "zerolinecolor": "white",
           "zerolinewidth": 2
          },
          "yaxis": {
           "automargin": true,
           "gridcolor": "white",
           "linecolor": "white",
           "ticks": "",
           "title": {
            "standoff": 15
           },
           "zerolinecolor": "white",
           "zerolinewidth": 2
          }
         }
        },
        "xaxis": {
         "anchor": "y",
         "domain": [
          0,
          1
         ],
         "title": {
          "text": "YMD"
         }
        },
        "yaxis": {
         "anchor": "x",
         "domain": [
          0,
          1
         ],
         "title": {
          "text": "danceability"
         }
        }
       }
      }
     },
     "metadata": {}
    }
   ],
   "source": [
    "fig = px.line(avg_month, x=\"YMD\", y=\"danceability\", color='Y')\n",
    "fig.show()"
   ]
  },
  {
   "cell_type": "code",
   "execution_count": null,
   "metadata": {},
   "outputs": [],
   "source": []
  }
 ]
}