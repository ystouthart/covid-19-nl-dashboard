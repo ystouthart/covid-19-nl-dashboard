{
 "metadata": {
  "language_info": {
   "codemirror_mode": {
    "name": "ipython",
    "version": 3
   },
   "file_extension": ".py",
   "mimetype": "text/x-python",
   "name": "python",
   "nbconvert_exporter": "python",
   "pygments_lexer": "ipython3",
   "version": "3.8.5-final"
  },
  "orig_nbformat": 2,
  "kernelspec": {
   "name": "python3",
   "display_name": "Python 3"
  }
 },
 "nbformat": 4,
 "nbformat_minor": 2,
 "cells": [
  {
   "source": [
    "# Changing Music Preferences\n",
    "### Do Spotify users listen to different music during the COVID-19 pandemic? \n",
    "### Does this relate to the amount of confirmed cases?\n",
    "\n",
    "To Do: \n",
    "\n",
    "1. Scraping Spotify Top 200 data\n",
    "2. Get song metadata through Spotify API\n",
    "3. .....\n"
   ],
   "cell_type": "markdown",
   "metadata": {}
  },
  {
   "source": [
    "Getting the Top 200 data for 2019 (baseline) and 2020 (pandemic).\n",
    "\n",
    "https://spotifycharts.com contains the official Spotify Charts. Luckily, each day/week is available as a .csv file!\n",
    "\n",
    "**Goal: get all the weekly .csv files from 2019 and 2020.**"
   ],
   "cell_type": "markdown",
   "metadata": {}
  },
  {
   "cell_type": "code",
   "execution_count": 2,
   "metadata": {},
   "outputs": [],
   "source": [
    "import requests\n",
    "from bs4 import BeautifulSoup"
   ]
  },
  {
   "cell_type": "code",
   "execution_count": 13,
   "metadata": {},
   "outputs": [],
   "source": [
    "url = 'https://spotifycharts.com/regional/nl/weekly/latest'\n",
    "\n",
    "r = requests.get(url)\n",
    "\n",
    "soup = BeautifulSoup(r.content, 'html.parser')"
   ]
  },
  {
   "cell_type": "code",
   "execution_count": 22,
   "metadata": {},
   "outputs": [
    {
     "output_type": "execute_result",
     "data": {
      "text/plain": [
       "[<li class=\"\" data-value=\"2020-10-02--2020-10-09\">10/08/2020</li>,\n",
       " <li class=\"\" data-value=\"2020-09-25--2020-10-02\">10/01/2020</li>,\n",
       " <li class=\"\" data-value=\"2020-09-18--2020-09-25\">09/24/2020</li>,\n",
       " <li class=\"\" data-value=\"2020-09-11--2020-09-18\">09/17/2020</li>,\n",
       " <li class=\"\" data-value=\"2020-09-04--2020-09-11\">09/10/2020</li>,\n",
       " <li class=\"\" data-value=\"2020-08-28--2020-09-04\">09/03/2020</li>,\n",
       " <li class=\"\" data-value=\"2020-08-21--2020-08-28\">08/27/2020</li>,\n",
       " <li class=\"\" data-value=\"2020-08-14--2020-08-21\">08/20/2020</li>,\n",
       " <li class=\"\" data-value=\"2020-08-07--2020-08-14\">08/13/2020</li>,\n",
       " <li class=\"\" data-value=\"2020-07-31--2020-08-07\">08/06/2020</li>]"
      ]
     },
     "metadata": {},
     "execution_count": 22
    }
   ],
   "source": [
    "dates = soup.select(\"li\")\n",
    "dates[70:80]"
   ]
  },
  {
   "cell_type": "code",
   "execution_count": null,
   "metadata": {},
   "outputs": [],
   "source": []
  }
 ]
}