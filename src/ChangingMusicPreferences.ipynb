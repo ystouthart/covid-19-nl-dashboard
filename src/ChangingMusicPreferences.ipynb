{
 "metadata": {
  "language_info": {
   "codemirror_mode": {
    "name": "ipython",
    "version": 3
   },
   "file_extension": ".py",
   "mimetype": "text/x-python",
   "name": "python",
   "nbconvert_exporter": "python",
   "pygments_lexer": "ipython3",
   "version": "3.8.5-final"
  },
  "orig_nbformat": 2,
  "kernelspec": {
   "name": "python3",
   "display_name": "Python 3"
  }
 },
 "nbformat": 4,
 "nbformat_minor": 2,
 "cells": [
  {
   "source": [
    "# Changing Music Preferences\n",
    "### Do Spotify users listen to different music during the COVID-19 pandemic? \n",
    "### Does this relate to the amount of confirmed cases?\n",
    "\n",
    "To Do: \n",
    "\n",
    "1. Scraping Spotify Top 200 data\n",
    "2. Get song metadata through Spotify API\n",
    "3. Data Visualization & Modelling\n",
    "4. .....\n",
    "5. Create interactive dashboard in Shiny\n"
   ],
   "cell_type": "markdown",
   "metadata": {}
  },
  {
   "source": [
    "## 1.\n",
    "## Scraping the Top 200 data for 2019 (baseline) and 2020 (pandemic).\n",
    "\n",
    "https://spotifycharts.com contains the official Spotify Charts. \n",
    "\n",
    "Luckily, each day/week is available as a .csv file!\n",
    "<br> <br> <br>\n",
    "**Goal: get all the weekly .csv files from 2019 and 2020 and combine them to one.**"
   ],
   "cell_type": "markdown",
   "metadata": {}
  },
  {
   "cell_type": "code",
   "execution_count": null,
   "metadata": {},
   "outputs": [],
   "source": [
    "import pandas as pd\n",
    "import numpy as np\n",
    "from tqdm import tqdm\n",
    "import requests\n",
    "from bs4 import BeautifulSoup\n",
    "import io"
   ]
  },
  {
   "cell_type": "code",
   "execution_count": null,
   "metadata": {},
   "outputs": [],
   "source": [
    "url = 'https://spotifycharts.com/regional/nl/weekly/latest'\n",
    "\n",
    "r = requests.get(url)\n",
    "\n",
    "soup = BeautifulSoup(r.content, 'html.parser')"
   ]
  },
  {
   "cell_type": "code",
   "execution_count": null,
   "metadata": {},
   "outputs": [],
   "source": [
    "dates = [item[\"data-value\"] for item in soup.find_all(attrs={\"data-value\": True}) if item[\"data-value\"].startswith('2')]\n",
    "dates[:5]"
   ]
  },
  {
   "cell_type": "code",
   "execution_count": null,
   "metadata": {},
   "outputs": [],
   "source": [
    "urls = [\"https://spotifycharts.com/regional/nl/weekly/\" + date + \"/download\" for date in dates]\n",
    "urls[:5]"
   ]
  },
  {
   "source": [
    "### Warning: running the block below will result in scraping 200 .csv's!"
   ],
   "cell_type": "markdown",
   "metadata": {}
  },
  {
   "cell_type": "code",
   "execution_count": null,
   "metadata": {},
   "outputs": [],
   "source": [
    "data = []\n",
    "\n",
    "for date in tqdm(dates): \n",
    "    url = \"https://spotifycharts.com/regional/nl/weekly/\" + date + \"/download\"\n",
    "    response = requests.get(url)\n",
    "    file_object = io.StringIO(response.content.decode('utf-8'))\n",
    "    df = pd.read_csv(file_object, header=1)\n",
    "    df[\"Date\"] = date\n",
    "    data.append(df)\n",
    "\n",
    "df = pd.concat(data)\n",
    "df.reset_index(drop=True, inplace=True)\n",
    "df.to_csv(\"..\\\\data\\\\raw\\\\top200_2017_2020.csv\", index=False)\n",
    "data = []"
   ]
  },
  {
   "cell_type": "code",
   "execution_count": 108,
   "metadata": {},
   "outputs": [
    {
     "output_type": "execute_result",
     "data": {
      "text/plain": [
       "       Position                                      Track Name  \\\n",
       "0             1                                         Scooter   \n",
       "1             2                          Mood (feat. iann dior)   \n",
       "2             3       Lemonade (feat. Gunna, Don Toliver & NAV)   \n",
       "3             4                      Lonely (with benny blanco)   \n",
       "4             5                       Head & Heart (feat. MNEK)   \n",
       "...         ...                                             ...   \n",
       "40195       196                                             Sex   \n",
       "40196       197                                  Ain't My Fault   \n",
       "40197       198                  Please Come Home for Christmas   \n",
       "40198       199  Jodge Me Niet - Titelsong Van De Film “SOOF 2”   \n",
       "40199       200           Kom Dichterbij Me (met Broederliefde)   \n",
       "\n",
       "                Artist  Streams  \\\n",
       "0              Yssi SB  2375687   \n",
       "1             24kGoldn  1614485   \n",
       "2       Internet Money  1429665   \n",
       "3        Justin Bieber  1330793   \n",
       "4           Joel Corry  1271413   \n",
       "...                ...      ...   \n",
       "40195      Cheat Codes   114030   \n",
       "40196     Zara Larsson   113974   \n",
       "40197  Luther Vandross   113779   \n",
       "40198             Jayh   113763   \n",
       "40199         Jan Smit   113720   \n",
       "\n",
       "                                                     URL  \\\n",
       "0      https://open.spotify.com/track/4eWeOwo0TB0vkdr...   \n",
       "1      https://open.spotify.com/track/3tjFYV6RSFtuktY...   \n",
       "2      https://open.spotify.com/track/7hxHWCCAIIxFLCz...   \n",
       "3      https://open.spotify.com/track/4y4spB9m0Q6026K...   \n",
       "4      https://open.spotify.com/track/6cx06DFPPHchuUA...   \n",
       "...                                                  ...   \n",
       "40195  https://open.spotify.com/track/5DA77EqppDmCTWG...   \n",
       "40196  https://open.spotify.com/track/0ADG9OgdVTL7fgR...   \n",
       "40197  https://open.spotify.com/track/2mOtx6P21hecOcP...   \n",
       "40198  https://open.spotify.com/track/2VxAfqI3vIOaPSl...   \n",
       "40199  https://open.spotify.com/track/1QdKAO1nlkmECl3...   \n",
       "\n",
       "                         Date  \n",
       "0      2020-10-23--2020-10-30  \n",
       "1      2020-10-23--2020-10-30  \n",
       "2      2020-10-23--2020-10-30  \n",
       "3      2020-10-23--2020-10-30  \n",
       "4      2020-10-23--2020-10-30  \n",
       "...                       ...  \n",
       "40195  2016-12-23--2016-12-30  \n",
       "40196  2016-12-23--2016-12-30  \n",
       "40197  2016-12-23--2016-12-30  \n",
       "40198  2016-12-23--2016-12-30  \n",
       "40199  2016-12-23--2016-12-30  \n",
       "\n",
       "[40200 rows x 6 columns]"
      ],
      "text/html": "<div>\n<style scoped>\n    .dataframe tbody tr th:only-of-type {\n        vertical-align: middle;\n    }\n\n    .dataframe tbody tr th {\n        vertical-align: top;\n    }\n\n    .dataframe thead th {\n        text-align: right;\n    }\n</style>\n<table border=\"1\" class=\"dataframe\">\n  <thead>\n    <tr style=\"text-align: right;\">\n      <th></th>\n      <th>Position</th>\n      <th>Track Name</th>\n      <th>Artist</th>\n      <th>Streams</th>\n      <th>URL</th>\n      <th>Date</th>\n    </tr>\n  </thead>\n  <tbody>\n    <tr>\n      <th>0</th>\n      <td>1</td>\n      <td>Scooter</td>\n      <td>Yssi SB</td>\n      <td>2375687</td>\n      <td>https://open.spotify.com/track/4eWeOwo0TB0vkdr...</td>\n      <td>2020-10-23--2020-10-30</td>\n    </tr>\n    <tr>\n      <th>1</th>\n      <td>2</td>\n      <td>Mood (feat. iann dior)</td>\n      <td>24kGoldn</td>\n      <td>1614485</td>\n      <td>https://open.spotify.com/track/3tjFYV6RSFtuktY...</td>\n      <td>2020-10-23--2020-10-30</td>\n    </tr>\n    <tr>\n      <th>2</th>\n      <td>3</td>\n      <td>Lemonade (feat. Gunna, Don Toliver &amp; NAV)</td>\n      <td>Internet Money</td>\n      <td>1429665</td>\n      <td>https://open.spotify.com/track/7hxHWCCAIIxFLCz...</td>\n      <td>2020-10-23--2020-10-30</td>\n    </tr>\n    <tr>\n      <th>3</th>\n      <td>4</td>\n      <td>Lonely (with benny blanco)</td>\n      <td>Justin Bieber</td>\n      <td>1330793</td>\n      <td>https://open.spotify.com/track/4y4spB9m0Q6026K...</td>\n      <td>2020-10-23--2020-10-30</td>\n    </tr>\n    <tr>\n      <th>4</th>\n      <td>5</td>\n      <td>Head &amp; Heart (feat. MNEK)</td>\n      <td>Joel Corry</td>\n      <td>1271413</td>\n      <td>https://open.spotify.com/track/6cx06DFPPHchuUA...</td>\n      <td>2020-10-23--2020-10-30</td>\n    </tr>\n    <tr>\n      <th>...</th>\n      <td>...</td>\n      <td>...</td>\n      <td>...</td>\n      <td>...</td>\n      <td>...</td>\n      <td>...</td>\n    </tr>\n    <tr>\n      <th>40195</th>\n      <td>196</td>\n      <td>Sex</td>\n      <td>Cheat Codes</td>\n      <td>114030</td>\n      <td>https://open.spotify.com/track/5DA77EqppDmCTWG...</td>\n      <td>2016-12-23--2016-12-30</td>\n    </tr>\n    <tr>\n      <th>40196</th>\n      <td>197</td>\n      <td>Ain't My Fault</td>\n      <td>Zara Larsson</td>\n      <td>113974</td>\n      <td>https://open.spotify.com/track/0ADG9OgdVTL7fgR...</td>\n      <td>2016-12-23--2016-12-30</td>\n    </tr>\n    <tr>\n      <th>40197</th>\n      <td>198</td>\n      <td>Please Come Home for Christmas</td>\n      <td>Luther Vandross</td>\n      <td>113779</td>\n      <td>https://open.spotify.com/track/2mOtx6P21hecOcP...</td>\n      <td>2016-12-23--2016-12-30</td>\n    </tr>\n    <tr>\n      <th>40198</th>\n      <td>199</td>\n      <td>Jodge Me Niet - Titelsong Van De Film “SOOF 2”</td>\n      <td>Jayh</td>\n      <td>113763</td>\n      <td>https://open.spotify.com/track/2VxAfqI3vIOaPSl...</td>\n      <td>2016-12-23--2016-12-30</td>\n    </tr>\n    <tr>\n      <th>40199</th>\n      <td>200</td>\n      <td>Kom Dichterbij Me (met Broederliefde)</td>\n      <td>Jan Smit</td>\n      <td>113720</td>\n      <td>https://open.spotify.com/track/1QdKAO1nlkmECl3...</td>\n      <td>2016-12-23--2016-12-30</td>\n    </tr>\n  </tbody>\n</table>\n<p>40200 rows × 6 columns</p>\n</div>"
     },
     "metadata": {},
     "execution_count": 108
    }
   ],
   "source": [
    "df = pd.read_csv(\"..\\\\data\\\\raw\\\\top200_2017_2020.csv\")\n",
    "df"
   ]
  },
  {
   "cell_type": "code",
   "execution_count": 109,
   "metadata": {},
   "outputs": [
    {
     "output_type": "stream",
     "name": "stdout",
     "text": [
      "Position      0\nTrack Name    7\nArtist        7\nStreams       0\nURL           2\nDate          0\ndtype: int64\n"
     ]
    }
   ],
   "source": [
    "print(df.isna().sum())\n",
    "df.dropna(inplace=True) # removing 8 rows out of 40k is justified\n",
    "\n",
    "df[['Start Week', 'End Week']] = df['Date'].str.split('--', 1, expand=True) # add columns for start and end dates\n",
    "df['ID'] = df['URL'].str.rsplit('https://open.spotify.com/track/', 1, expand=True)[1] # add ID column for later merge\n",
    "\n",
    "df.to_csv(\"..\\\\data\\\\processed\\\\top200_2017_2020.csv\", index=False)"
   ]
  },
  {
   "cell_type": "code",
   "execution_count": 80,
   "metadata": {},
   "outputs": [
    {
     "output_type": "execute_result",
     "data": {
      "text/plain": [
       "   Position                                 Track Name          Artist  \\\n",
       "0         1                                    Scooter         Yssi SB   \n",
       "1         2                     Mood (feat. iann dior)        24kGoldn   \n",
       "2         3  Lemonade (feat. Gunna, Don Toliver & NAV)  Internet Money   \n",
       "3         4                 Lonely (with benny blanco)   Justin Bieber   \n",
       "4         5                  Head & Heart (feat. MNEK)      Joel Corry   \n",
       "\n",
       "   Streams                                                URL  \\\n",
       "0  2375687  https://open.spotify.com/track/4eWeOwo0TB0vkdr...   \n",
       "1  1614485  https://open.spotify.com/track/3tjFYV6RSFtuktY...   \n",
       "2  1429665  https://open.spotify.com/track/7hxHWCCAIIxFLCz...   \n",
       "3  1330793  https://open.spotify.com/track/4y4spB9m0Q6026K...   \n",
       "4  1271413  https://open.spotify.com/track/6cx06DFPPHchuUA...   \n",
       "\n",
       "                     Date Start Week   End Week                      ID  \n",
       "0  2020-10-23--2020-10-30 2020-10-23 2020-10-30  4eWeOwo0TB0vkdrUhy4zbM  \n",
       "1  2020-10-23--2020-10-30 2020-10-23 2020-10-30  3tjFYV6RSFtuktYl3ZtYcq  \n",
       "2  2020-10-23--2020-10-30 2020-10-23 2020-10-30  7hxHWCCAIIxFLCzvDgnQHX  \n",
       "3  2020-10-23--2020-10-30 2020-10-23 2020-10-30  4y4spB9m0Q6026KfkAvy9Q  \n",
       "4  2020-10-23--2020-10-30 2020-10-23 2020-10-30  6cx06DFPPHchuUAcTxznu9  "
      ],
      "text/html": "<div>\n<style scoped>\n    .dataframe tbody tr th:only-of-type {\n        vertical-align: middle;\n    }\n\n    .dataframe tbody tr th {\n        vertical-align: top;\n    }\n\n    .dataframe thead th {\n        text-align: right;\n    }\n</style>\n<table border=\"1\" class=\"dataframe\">\n  <thead>\n    <tr style=\"text-align: right;\">\n      <th></th>\n      <th>Position</th>\n      <th>Track Name</th>\n      <th>Artist</th>\n      <th>Streams</th>\n      <th>URL</th>\n      <th>Date</th>\n      <th>Start Week</th>\n      <th>End Week</th>\n      <th>ID</th>\n    </tr>\n  </thead>\n  <tbody>\n    <tr>\n      <th>0</th>\n      <td>1</td>\n      <td>Scooter</td>\n      <td>Yssi SB</td>\n      <td>2375687</td>\n      <td>https://open.spotify.com/track/4eWeOwo0TB0vkdr...</td>\n      <td>2020-10-23--2020-10-30</td>\n      <td>2020-10-23</td>\n      <td>2020-10-30</td>\n      <td>4eWeOwo0TB0vkdrUhy4zbM</td>\n    </tr>\n    <tr>\n      <th>1</th>\n      <td>2</td>\n      <td>Mood (feat. iann dior)</td>\n      <td>24kGoldn</td>\n      <td>1614485</td>\n      <td>https://open.spotify.com/track/3tjFYV6RSFtuktY...</td>\n      <td>2020-10-23--2020-10-30</td>\n      <td>2020-10-23</td>\n      <td>2020-10-30</td>\n      <td>3tjFYV6RSFtuktYl3ZtYcq</td>\n    </tr>\n    <tr>\n      <th>2</th>\n      <td>3</td>\n      <td>Lemonade (feat. Gunna, Don Toliver &amp; NAV)</td>\n      <td>Internet Money</td>\n      <td>1429665</td>\n      <td>https://open.spotify.com/track/7hxHWCCAIIxFLCz...</td>\n      <td>2020-10-23--2020-10-30</td>\n      <td>2020-10-23</td>\n      <td>2020-10-30</td>\n      <td>7hxHWCCAIIxFLCzvDgnQHX</td>\n    </tr>\n    <tr>\n      <th>3</th>\n      <td>4</td>\n      <td>Lonely (with benny blanco)</td>\n      <td>Justin Bieber</td>\n      <td>1330793</td>\n      <td>https://open.spotify.com/track/4y4spB9m0Q6026K...</td>\n      <td>2020-10-23--2020-10-30</td>\n      <td>2020-10-23</td>\n      <td>2020-10-30</td>\n      <td>4y4spB9m0Q6026KfkAvy9Q</td>\n    </tr>\n    <tr>\n      <th>4</th>\n      <td>5</td>\n      <td>Head &amp; Heart (feat. MNEK)</td>\n      <td>Joel Corry</td>\n      <td>1271413</td>\n      <td>https://open.spotify.com/track/6cx06DFPPHchuUA...</td>\n      <td>2020-10-23--2020-10-30</td>\n      <td>2020-10-23</td>\n      <td>2020-10-30</td>\n      <td>6cx06DFPPHchuUAcTxznu9</td>\n    </tr>\n  </tbody>\n</table>\n</div>"
     },
     "metadata": {},
     "execution_count": 80
    }
   ],
   "source": [
    "df = pd.read_csv(\"..\\\\data\\\\processed\\\\top200_2017_2020.csv\")\n",
    "df.head()"
   ]
  },
  {
   "source": [
    "## 2.\n",
    "## Retrieve and Combine music features through Spotify API\n"
   ],
   "cell_type": "markdown",
   "metadata": {}
  },
  {
   "cell_type": "code",
   "execution_count": 110,
   "metadata": {},
   "outputs": [],
   "source": [
    "# Fill this in using your Spotify API Credentials from https://developer.spotify.com/dashboard/applications\n",
    "import spotipy\n",
    "from spotipy.oauth2 import SpotifyClientCredentials\n",
    "\n",
    "cid =\"XXX\" \n",
    "secret = \"XXX\"\n",
    "\n",
    "client_credentials_manager = SpotifyClientCredentials(client_id=cid, client_secret=secret)\n",
    "sp = spotipy.Spotify(client_credentials_manager=client_credentials_manager)"
   ]
  },
  {
   "cell_type": "code",
   "execution_count": 112,
   "metadata": {},
   "outputs": [],
   "source": [
    "# Where I save my Spotify API Credentials, outside of this public repository :)\n",
    "import spotipy\n",
    "%run credentials.py"
   ]
  },
  {
   "cell_type": "code",
   "execution_count": 113,
   "metadata": {},
   "outputs": [
    {
     "output_type": "stream",
     "name": "stderr",
     "text": [
      "100%|██████████| 402/402 [00:39<00:00, 10.19it/s]\n"
     ]
    }
   ],
   "source": [
    "# from https://github.com/tgel0/spotify-data/blob/master/notebooks/SpotifyDataRetrieval.ipynb under MIT Licence.\n",
    "\n",
    "rows = []\n",
    "batchsize = 100\n",
    "None_counter = 0\n",
    "\n",
    "for i in tqdm(range(0,len(df['ID']),batchsize)):\n",
    "    batch = df['ID'][i:i+batchsize]\n",
    "    feature_results = sp.audio_features(batch)\n",
    "    for i, t in enumerate(feature_results):\n",
    "        if t == None:\n",
    "            None_counter = None_counter + 1\n",
    "        else:\n",
    "            rows.append(t)"
   ]
  },
  {
   "cell_type": "code",
   "execution_count": 114,
   "metadata": {},
   "outputs": [
    {
     "output_type": "execute_result",
     "data": {
      "text/plain": [
       "       danceability  energy  key  loudness  mode  speechiness  acousticness  \\\n",
       "0             0.781   0.412    0   -10.860     1       0.1410       0.26200   \n",
       "1             0.700   0.722    7    -3.558     0       0.0369       0.22100   \n",
       "2             0.800   0.658    1    -6.142     0       0.0790       0.25000   \n",
       "3             0.631   0.239   11    -7.071     0       0.0398       0.86400   \n",
       "4             0.734   0.874    8    -3.158     1       0.0662       0.16800   \n",
       "...             ...     ...  ...       ...   ...          ...           ...   \n",
       "40188         0.510   0.692    0    -5.825     1       0.1710       0.00451   \n",
       "40189         0.576   0.782    6    -4.825     0       0.0296       0.00778   \n",
       "40190         0.611   0.352   10    -9.777     1       0.0236       0.75000   \n",
       "40191         0.806   0.734    7    -7.192     1       0.1200       0.00935   \n",
       "40192         0.549   0.719    5    -5.529     0       0.1630       0.31800   \n",
       "\n",
       "       instrumentalness  liveness  valence    tempo            type  \\\n",
       "0              0.000000    0.4280   0.8790  159.981  audio_features   \n",
       "1              0.000000    0.2720   0.7560   90.989  audio_features   \n",
       "2              0.000000    0.1110   0.4620  140.042  audio_features   \n",
       "3              0.000000    0.1160   0.0927   79.859  audio_features   \n",
       "4              0.000011    0.0489   0.9050  122.953  audio_features   \n",
       "...                 ...       ...      ...      ...             ...   \n",
       "40188          0.000000    0.1380   0.2090  102.420  audio_features   \n",
       "40189          0.000000    0.2850   0.3550  141.153  audio_features   \n",
       "40190          0.000000    0.1130   0.1380   99.971  audio_features   \n",
       "40191          0.000000    0.1730   0.7180  113.106  audio_features   \n",
       "40192          0.000000    0.1270   0.5860  139.948  audio_features   \n",
       "\n",
       "                           id                                   uri  \\\n",
       "0      4eWeOwo0TB0vkdrUhy4zbM  spotify:track:4eWeOwo0TB0vkdrUhy4zbM   \n",
       "1      3tjFYV6RSFtuktYl3ZtYcq  spotify:track:3tjFYV6RSFtuktYl3ZtYcq   \n",
       "2      7hxHWCCAIIxFLCzvDgnQHX  spotify:track:7hxHWCCAIIxFLCzvDgnQHX   \n",
       "3      4y4spB9m0Q6026KfkAvy9Q  spotify:track:4y4spB9m0Q6026KfkAvy9Q   \n",
       "4      6cx06DFPPHchuUAcTxznu9  spotify:track:6cx06DFPPHchuUAcTxznu9   \n",
       "...                       ...                                   ...   \n",
       "40188  5DA77EqppDmCTWGovd4oTP  spotify:track:5DA77EqppDmCTWGovd4oTP   \n",
       "40189  0ADG9OgdVTL7fgREP75BrZ  spotify:track:0ADG9OgdVTL7fgREP75BrZ   \n",
       "40190  2mOtx6P21hecOcPoVuZbzF  spotify:track:2mOtx6P21hecOcPoVuZbzF   \n",
       "40191  2VxAfqI3vIOaPSlECBNJa8  spotify:track:2VxAfqI3vIOaPSlECBNJa8   \n",
       "40192  1QdKAO1nlkmECl3BpOPIG1  spotify:track:1QdKAO1nlkmECl3BpOPIG1   \n",
       "\n",
       "                                              track_href  \\\n",
       "0      https://api.spotify.com/v1/tracks/4eWeOwo0TB0v...   \n",
       "1      https://api.spotify.com/v1/tracks/3tjFYV6RSFtu...   \n",
       "2      https://api.spotify.com/v1/tracks/7hxHWCCAIIxF...   \n",
       "3      https://api.spotify.com/v1/tracks/4y4spB9m0Q60...   \n",
       "4      https://api.spotify.com/v1/tracks/6cx06DFPPHch...   \n",
       "...                                                  ...   \n",
       "40188  https://api.spotify.com/v1/tracks/5DA77EqppDmC...   \n",
       "40189  https://api.spotify.com/v1/tracks/0ADG9OgdVTL7...   \n",
       "40190  https://api.spotify.com/v1/tracks/2mOtx6P21hec...   \n",
       "40191  https://api.spotify.com/v1/tracks/2VxAfqI3vIOa...   \n",
       "40192  https://api.spotify.com/v1/tracks/1QdKAO1nlkmE...   \n",
       "\n",
       "                                            analysis_url  duration_ms  \\\n",
       "0      https://api.spotify.com/v1/audio-analysis/4eWe...       278000   \n",
       "1      https://api.spotify.com/v1/audio-analysis/3tjF...       140526   \n",
       "2      https://api.spotify.com/v1/audio-analysis/7hxH...       195429   \n",
       "3      https://api.spotify.com/v1/audio-analysis/4y4s...       149297   \n",
       "4      https://api.spotify.com/v1/audio-analysis/6cx0...       166028   \n",
       "...                                                  ...          ...   \n",
       "40188  https://api.spotify.com/v1/audio-analysis/5DA7...       228361   \n",
       "40189  https://api.spotify.com/v1/audio-analysis/0ADG...       224031   \n",
       "40190  https://api.spotify.com/v1/audio-analysis/2mOt...       217840   \n",
       "40191  https://api.spotify.com/v1/audio-analysis/2VxA...       156831   \n",
       "40192  https://api.spotify.com/v1/audio-analysis/1QdK...       210103   \n",
       "\n",
       "       time_signature  \n",
       "0                   4  \n",
       "1                   4  \n",
       "2                   4  \n",
       "3                   4  \n",
       "4                   4  \n",
       "...               ...  \n",
       "40188               4  \n",
       "40189               4  \n",
       "40190               4  \n",
       "40191               4  \n",
       "40192               5  \n",
       "\n",
       "[40193 rows x 18 columns]"
      ],
      "text/html": "<div>\n<style scoped>\n    .dataframe tbody tr th:only-of-type {\n        vertical-align: middle;\n    }\n\n    .dataframe tbody tr th {\n        vertical-align: top;\n    }\n\n    .dataframe thead th {\n        text-align: right;\n    }\n</style>\n<table border=\"1\" class=\"dataframe\">\n  <thead>\n    <tr style=\"text-align: right;\">\n      <th></th>\n      <th>danceability</th>\n      <th>energy</th>\n      <th>key</th>\n      <th>loudness</th>\n      <th>mode</th>\n      <th>speechiness</th>\n      <th>acousticness</th>\n      <th>instrumentalness</th>\n      <th>liveness</th>\n      <th>valence</th>\n      <th>tempo</th>\n      <th>type</th>\n      <th>id</th>\n      <th>uri</th>\n      <th>track_href</th>\n      <th>analysis_url</th>\n      <th>duration_ms</th>\n      <th>time_signature</th>\n    </tr>\n  </thead>\n  <tbody>\n    <tr>\n      <th>0</th>\n      <td>0.781</td>\n      <td>0.412</td>\n      <td>0</td>\n      <td>-10.860</td>\n      <td>1</td>\n      <td>0.1410</td>\n      <td>0.26200</td>\n      <td>0.000000</td>\n      <td>0.4280</td>\n      <td>0.8790</td>\n      <td>159.981</td>\n      <td>audio_features</td>\n      <td>4eWeOwo0TB0vkdrUhy4zbM</td>\n      <td>spotify:track:4eWeOwo0TB0vkdrUhy4zbM</td>\n      <td>https://api.spotify.com/v1/tracks/4eWeOwo0TB0v...</td>\n      <td>https://api.spotify.com/v1/audio-analysis/4eWe...</td>\n      <td>278000</td>\n      <td>4</td>\n    </tr>\n    <tr>\n      <th>1</th>\n      <td>0.700</td>\n      <td>0.722</td>\n      <td>7</td>\n      <td>-3.558</td>\n      <td>0</td>\n      <td>0.0369</td>\n      <td>0.22100</td>\n      <td>0.000000</td>\n      <td>0.2720</td>\n      <td>0.7560</td>\n      <td>90.989</td>\n      <td>audio_features</td>\n      <td>3tjFYV6RSFtuktYl3ZtYcq</td>\n      <td>spotify:track:3tjFYV6RSFtuktYl3ZtYcq</td>\n      <td>https://api.spotify.com/v1/tracks/3tjFYV6RSFtu...</td>\n      <td>https://api.spotify.com/v1/audio-analysis/3tjF...</td>\n      <td>140526</td>\n      <td>4</td>\n    </tr>\n    <tr>\n      <th>2</th>\n      <td>0.800</td>\n      <td>0.658</td>\n      <td>1</td>\n      <td>-6.142</td>\n      <td>0</td>\n      <td>0.0790</td>\n      <td>0.25000</td>\n      <td>0.000000</td>\n      <td>0.1110</td>\n      <td>0.4620</td>\n      <td>140.042</td>\n      <td>audio_features</td>\n      <td>7hxHWCCAIIxFLCzvDgnQHX</td>\n      <td>spotify:track:7hxHWCCAIIxFLCzvDgnQHX</td>\n      <td>https://api.spotify.com/v1/tracks/7hxHWCCAIIxF...</td>\n      <td>https://api.spotify.com/v1/audio-analysis/7hxH...</td>\n      <td>195429</td>\n      <td>4</td>\n    </tr>\n    <tr>\n      <th>3</th>\n      <td>0.631</td>\n      <td>0.239</td>\n      <td>11</td>\n      <td>-7.071</td>\n      <td>0</td>\n      <td>0.0398</td>\n      <td>0.86400</td>\n      <td>0.000000</td>\n      <td>0.1160</td>\n      <td>0.0927</td>\n      <td>79.859</td>\n      <td>audio_features</td>\n      <td>4y4spB9m0Q6026KfkAvy9Q</td>\n      <td>spotify:track:4y4spB9m0Q6026KfkAvy9Q</td>\n      <td>https://api.spotify.com/v1/tracks/4y4spB9m0Q60...</td>\n      <td>https://api.spotify.com/v1/audio-analysis/4y4s...</td>\n      <td>149297</td>\n      <td>4</td>\n    </tr>\n    <tr>\n      <th>4</th>\n      <td>0.734</td>\n      <td>0.874</td>\n      <td>8</td>\n      <td>-3.158</td>\n      <td>1</td>\n      <td>0.0662</td>\n      <td>0.16800</td>\n      <td>0.000011</td>\n      <td>0.0489</td>\n      <td>0.9050</td>\n      <td>122.953</td>\n      <td>audio_features</td>\n      <td>6cx06DFPPHchuUAcTxznu9</td>\n      <td>spotify:track:6cx06DFPPHchuUAcTxznu9</td>\n      <td>https://api.spotify.com/v1/tracks/6cx06DFPPHch...</td>\n      <td>https://api.spotify.com/v1/audio-analysis/6cx0...</td>\n      <td>166028</td>\n      <td>4</td>\n    </tr>\n    <tr>\n      <th>...</th>\n      <td>...</td>\n      <td>...</td>\n      <td>...</td>\n      <td>...</td>\n      <td>...</td>\n      <td>...</td>\n      <td>...</td>\n      <td>...</td>\n      <td>...</td>\n      <td>...</td>\n      <td>...</td>\n      <td>...</td>\n      <td>...</td>\n      <td>...</td>\n      <td>...</td>\n      <td>...</td>\n      <td>...</td>\n      <td>...</td>\n    </tr>\n    <tr>\n      <th>40188</th>\n      <td>0.510</td>\n      <td>0.692</td>\n      <td>0</td>\n      <td>-5.825</td>\n      <td>1</td>\n      <td>0.1710</td>\n      <td>0.00451</td>\n      <td>0.000000</td>\n      <td>0.1380</td>\n      <td>0.2090</td>\n      <td>102.420</td>\n      <td>audio_features</td>\n      <td>5DA77EqppDmCTWGovd4oTP</td>\n      <td>spotify:track:5DA77EqppDmCTWGovd4oTP</td>\n      <td>https://api.spotify.com/v1/tracks/5DA77EqppDmC...</td>\n      <td>https://api.spotify.com/v1/audio-analysis/5DA7...</td>\n      <td>228361</td>\n      <td>4</td>\n    </tr>\n    <tr>\n      <th>40189</th>\n      <td>0.576</td>\n      <td>0.782</td>\n      <td>6</td>\n      <td>-4.825</td>\n      <td>0</td>\n      <td>0.0296</td>\n      <td>0.00778</td>\n      <td>0.000000</td>\n      <td>0.2850</td>\n      <td>0.3550</td>\n      <td>141.153</td>\n      <td>audio_features</td>\n      <td>0ADG9OgdVTL7fgREP75BrZ</td>\n      <td>spotify:track:0ADG9OgdVTL7fgREP75BrZ</td>\n      <td>https://api.spotify.com/v1/tracks/0ADG9OgdVTL7...</td>\n      <td>https://api.spotify.com/v1/audio-analysis/0ADG...</td>\n      <td>224031</td>\n      <td>4</td>\n    </tr>\n    <tr>\n      <th>40190</th>\n      <td>0.611</td>\n      <td>0.352</td>\n      <td>10</td>\n      <td>-9.777</td>\n      <td>1</td>\n      <td>0.0236</td>\n      <td>0.75000</td>\n      <td>0.000000</td>\n      <td>0.1130</td>\n      <td>0.1380</td>\n      <td>99.971</td>\n      <td>audio_features</td>\n      <td>2mOtx6P21hecOcPoVuZbzF</td>\n      <td>spotify:track:2mOtx6P21hecOcPoVuZbzF</td>\n      <td>https://api.spotify.com/v1/tracks/2mOtx6P21hec...</td>\n      <td>https://api.spotify.com/v1/audio-analysis/2mOt...</td>\n      <td>217840</td>\n      <td>4</td>\n    </tr>\n    <tr>\n      <th>40191</th>\n      <td>0.806</td>\n      <td>0.734</td>\n      <td>7</td>\n      <td>-7.192</td>\n      <td>1</td>\n      <td>0.1200</td>\n      <td>0.00935</td>\n      <td>0.000000</td>\n      <td>0.1730</td>\n      <td>0.7180</td>\n      <td>113.106</td>\n      <td>audio_features</td>\n      <td>2VxAfqI3vIOaPSlECBNJa8</td>\n      <td>spotify:track:2VxAfqI3vIOaPSlECBNJa8</td>\n      <td>https://api.spotify.com/v1/tracks/2VxAfqI3vIOa...</td>\n      <td>https://api.spotify.com/v1/audio-analysis/2VxA...</td>\n      <td>156831</td>\n      <td>4</td>\n    </tr>\n    <tr>\n      <th>40192</th>\n      <td>0.549</td>\n      <td>0.719</td>\n      <td>5</td>\n      <td>-5.529</td>\n      <td>0</td>\n      <td>0.1630</td>\n      <td>0.31800</td>\n      <td>0.000000</td>\n      <td>0.1270</td>\n      <td>0.5860</td>\n      <td>139.948</td>\n      <td>audio_features</td>\n      <td>1QdKAO1nlkmECl3BpOPIG1</td>\n      <td>spotify:track:1QdKAO1nlkmECl3BpOPIG1</td>\n      <td>https://api.spotify.com/v1/tracks/1QdKAO1nlkmE...</td>\n      <td>https://api.spotify.com/v1/audio-analysis/1QdK...</td>\n      <td>210103</td>\n      <td>5</td>\n    </tr>\n  </tbody>\n</table>\n<p>40193 rows × 18 columns</p>\n</div>"
     },
     "metadata": {},
     "execution_count": 114
    }
   ],
   "source": [
    "features = pd.DataFrame.from_dict(rows, orient=\"columns\")\n",
    "features"
   ]
  },
  {
   "cell_type": "code",
   "execution_count": 115,
   "metadata": {},
   "outputs": [],
   "source": [
    "features.drop(['analysis_url','track_href','type','uri'], axis=1,inplace=True)"
   ]
  },
  {
   "cell_type": "code",
   "execution_count": 116,
   "metadata": {},
   "outputs": [
    {
     "output_type": "execute_result",
     "data": {
      "text/plain": [
       "       danceability        energy           key      loudness          mode  \\\n",
       "count  40193.000000  40193.000000  40193.000000  40193.000000  40193.000000   \n",
       "mean       0.702381      0.652724      5.490658     -6.308446      0.539547   \n",
       "std        0.135682      0.153307      3.557019      2.258734      0.498440   \n",
       "min        0.153000      0.031600      0.000000    -23.023000      0.000000   \n",
       "25%        0.617000      0.557000      2.000000     -7.329000      0.000000   \n",
       "50%        0.714000      0.665000      6.000000     -6.032000      1.000000   \n",
       "75%        0.804000      0.768000      8.000000     -4.860000      1.000000   \n",
       "max        0.974000      0.990000     11.000000     -0.793000      1.000000   \n",
       "\n",
       "        speechiness  acousticness  instrumentalness      liveness  \\\n",
       "count  40193.000000  40193.000000      40193.000000  40193.000000   \n",
       "mean       0.132350      0.227793          0.006556      0.162557   \n",
       "std        0.112401      0.224861          0.049807      0.116627   \n",
       "min        0.023200      0.000055          0.000000      0.018300   \n",
       "25%        0.047600      0.055800          0.000000      0.092200   \n",
       "50%        0.086000      0.150000          0.000000      0.118000   \n",
       "75%        0.191000      0.327000          0.000020      0.188000   \n",
       "max        0.966000      0.993000          0.918000      0.973000   \n",
       "\n",
       "            valence         tempo   duration_ms  time_signature  \n",
       "count  40193.000000  40193.000000  4.019300e+04    40193.000000  \n",
       "mean       0.533651    116.303508  1.962902e+05        3.990745  \n",
       "std        0.217208     26.311783  3.721559e+04        0.276310  \n",
       "min        0.036000     38.796000  3.013300e+04        1.000000  \n",
       "25%        0.367000     97.949000  1.733330e+05        4.000000  \n",
       "50%        0.536000    109.891000  1.954290e+05        4.000000  \n",
       "75%        0.708000    128.924000  2.163910e+05        4.000000  \n",
       "max        0.989000    216.821000  1.336000e+06        5.000000  "
      ],
      "text/html": "<div>\n<style scoped>\n    .dataframe tbody tr th:only-of-type {\n        vertical-align: middle;\n    }\n\n    .dataframe tbody tr th {\n        vertical-align: top;\n    }\n\n    .dataframe thead th {\n        text-align: right;\n    }\n</style>\n<table border=\"1\" class=\"dataframe\">\n  <thead>\n    <tr style=\"text-align: right;\">\n      <th></th>\n      <th>danceability</th>\n      <th>energy</th>\n      <th>key</th>\n      <th>loudness</th>\n      <th>mode</th>\n      <th>speechiness</th>\n      <th>acousticness</th>\n      <th>instrumentalness</th>\n      <th>liveness</th>\n      <th>valence</th>\n      <th>tempo</th>\n      <th>duration_ms</th>\n      <th>time_signature</th>\n    </tr>\n  </thead>\n  <tbody>\n    <tr>\n      <th>count</th>\n      <td>40193.000000</td>\n      <td>40193.000000</td>\n      <td>40193.000000</td>\n      <td>40193.000000</td>\n      <td>40193.000000</td>\n      <td>40193.000000</td>\n      <td>40193.000000</td>\n      <td>40193.000000</td>\n      <td>40193.000000</td>\n      <td>40193.000000</td>\n      <td>40193.000000</td>\n      <td>4.019300e+04</td>\n      <td>40193.000000</td>\n    </tr>\n    <tr>\n      <th>mean</th>\n      <td>0.702381</td>\n      <td>0.652724</td>\n      <td>5.490658</td>\n      <td>-6.308446</td>\n      <td>0.539547</td>\n      <td>0.132350</td>\n      <td>0.227793</td>\n      <td>0.006556</td>\n      <td>0.162557</td>\n      <td>0.533651</td>\n      <td>116.303508</td>\n      <td>1.962902e+05</td>\n      <td>3.990745</td>\n    </tr>\n    <tr>\n      <th>std</th>\n      <td>0.135682</td>\n      <td>0.153307</td>\n      <td>3.557019</td>\n      <td>2.258734</td>\n      <td>0.498440</td>\n      <td>0.112401</td>\n      <td>0.224861</td>\n      <td>0.049807</td>\n      <td>0.116627</td>\n      <td>0.217208</td>\n      <td>26.311783</td>\n      <td>3.721559e+04</td>\n      <td>0.276310</td>\n    </tr>\n    <tr>\n      <th>min</th>\n      <td>0.153000</td>\n      <td>0.031600</td>\n      <td>0.000000</td>\n      <td>-23.023000</td>\n      <td>0.000000</td>\n      <td>0.023200</td>\n      <td>0.000055</td>\n      <td>0.000000</td>\n      <td>0.018300</td>\n      <td>0.036000</td>\n      <td>38.796000</td>\n      <td>3.013300e+04</td>\n      <td>1.000000</td>\n    </tr>\n    <tr>\n      <th>25%</th>\n      <td>0.617000</td>\n      <td>0.557000</td>\n      <td>2.000000</td>\n      <td>-7.329000</td>\n      <td>0.000000</td>\n      <td>0.047600</td>\n      <td>0.055800</td>\n      <td>0.000000</td>\n      <td>0.092200</td>\n      <td>0.367000</td>\n      <td>97.949000</td>\n      <td>1.733330e+05</td>\n      <td>4.000000</td>\n    </tr>\n    <tr>\n      <th>50%</th>\n      <td>0.714000</td>\n      <td>0.665000</td>\n      <td>6.000000</td>\n      <td>-6.032000</td>\n      <td>1.000000</td>\n      <td>0.086000</td>\n      <td>0.150000</td>\n      <td>0.000000</td>\n      <td>0.118000</td>\n      <td>0.536000</td>\n      <td>109.891000</td>\n      <td>1.954290e+05</td>\n      <td>4.000000</td>\n    </tr>\n    <tr>\n      <th>75%</th>\n      <td>0.804000</td>\n      <td>0.768000</td>\n      <td>8.000000</td>\n      <td>-4.860000</td>\n      <td>1.000000</td>\n      <td>0.191000</td>\n      <td>0.327000</td>\n      <td>0.000020</td>\n      <td>0.188000</td>\n      <td>0.708000</td>\n      <td>128.924000</td>\n      <td>2.163910e+05</td>\n      <td>4.000000</td>\n    </tr>\n    <tr>\n      <th>max</th>\n      <td>0.974000</td>\n      <td>0.990000</td>\n      <td>11.000000</td>\n      <td>-0.793000</td>\n      <td>1.000000</td>\n      <td>0.966000</td>\n      <td>0.993000</td>\n      <td>0.918000</td>\n      <td>0.973000</td>\n      <td>0.989000</td>\n      <td>216.821000</td>\n      <td>1.336000e+06</td>\n      <td>5.000000</td>\n    </tr>\n  </tbody>\n</table>\n</div>"
     },
     "metadata": {},
     "execution_count": 116
    }
   ],
   "source": [
    "features.describe()"
   ]
  },
  {
   "cell_type": "code",
   "execution_count": 118,
   "metadata": {},
   "outputs": [
    {
     "output_type": "stream",
     "name": "stdout",
     "text": [
      "danceability        0\nenergy              0\nkey                 0\nloudness            0\nmode                0\nspeechiness         0\nacousticness        0\ninstrumentalness    0\nliveness            0\nvalence             0\ntempo               0\nid                  0\nduration_ms         0\ntime_signature      0\ndtype: int64\n<class 'pandas.core.frame.DataFrame'>\nRangeIndex: 40193 entries, 0 to 40192\nData columns (total 14 columns):\n #   Column            Non-Null Count  Dtype  \n---  ------            --------------  -----  \n 0   danceability      40193 non-null  float64\n 1   energy            40193 non-null  float64\n 2   key               40193 non-null  int64  \n 3   loudness          40193 non-null  float64\n 4   mode              40193 non-null  int64  \n 5   speechiness       40193 non-null  float64\n 6   acousticness      40193 non-null  float64\n 7   instrumentalness  40193 non-null  float64\n 8   liveness          40193 non-null  float64\n 9   valence           40193 non-null  float64\n 10  tempo             40193 non-null  float64\n 11  id                40193 non-null  object \n 12  duration_ms       40193 non-null  int64  \n 13  time_signature    40193 non-null  int64  \ndtypes: float64(9), int64(4), object(1)\nmemory usage: 4.3+ MB\nNone\n"
     ]
    }
   ],
   "source": [
    "print(features.isna().sum())\n",
    "print(features.info())"
   ]
  },
  {
   "cell_type": "code",
   "execution_count": 119,
   "metadata": {},
   "outputs": [],
   "source": [
    "features.drop_duplicates(inplace=True)"
   ]
  },
  {
   "cell_type": "code",
   "execution_count": 121,
   "metadata": {},
   "outputs": [
    {
     "output_type": "stream",
     "name": "stdout",
     "text": [
      "<class 'pandas.core.frame.DataFrame'>\nInt64Index: 5044 entries, 0 to 40190\nData columns (total 14 columns):\n #   Column            Non-Null Count  Dtype  \n---  ------            --------------  -----  \n 0   danceability      5044 non-null   float64\n 1   energy            5044 non-null   float64\n 2   key               5044 non-null   int64  \n 3   loudness          5044 non-null   float64\n 4   mode              5044 non-null   int64  \n 5   speechiness       5044 non-null   float64\n 6   acousticness      5044 non-null   float64\n 7   instrumentalness  5044 non-null   float64\n 8   liveness          5044 non-null   float64\n 9   valence           5044 non-null   float64\n 10  tempo             5044 non-null   float64\n 11  id                5044 non-null   object \n 12  duration_ms       5044 non-null   int64  \n 13  time_signature    5044 non-null   int64  \ndtypes: float64(9), int64(4), object(1)\nmemory usage: 591.1+ KB\n"
     ]
    }
   ],
   "source": [
    "features.info()"
   ]
  },
  {
   "cell_type": "code",
   "execution_count": 122,
   "metadata": {},
   "outputs": [
    {
     "output_type": "execute_result",
     "data": {
      "text/plain": [
       "       Position                                   Track Name           Artist  \\\n",
       "0             1                                      Scooter          Yssi SB   \n",
       "1             2                       Mood (feat. iann dior)         24kGoldn   \n",
       "2             1                       Mood (feat. iann dior)         24kGoldn   \n",
       "3             1                       Mood (feat. iann dior)         24kGoldn   \n",
       "4             1                       Mood (feat. iann dior)         24kGoldn   \n",
       "...         ...                                          ...              ...   \n",
       "40188       174                             Man With The Bag         Jessie J   \n",
       "40189       176                                Christmas Day             Dido   \n",
       "40190       182  Christmas Lights - Live from Spotify London         Coldplay   \n",
       "40191       195            Christmas (Baby Please Come Home)     Darlene Love   \n",
       "40192       198               Please Come Home for Christmas  Luther Vandross   \n",
       "\n",
       "       Streams                                                URL  \\\n",
       "0      2375687  https://open.spotify.com/track/4eWeOwo0TB0vkdr...   \n",
       "1      1614485  https://open.spotify.com/track/3tjFYV6RSFtuktY...   \n",
       "2      1637451  https://open.spotify.com/track/3tjFYV6RSFtuktY...   \n",
       "3      1693876  https://open.spotify.com/track/3tjFYV6RSFtuktY...   \n",
       "4      1787537  https://open.spotify.com/track/3tjFYV6RSFtuktY...   \n",
       "...        ...                                                ...   \n",
       "40188   123048  https://open.spotify.com/track/18g50kFt5uwVeCz...   \n",
       "40189   122741  https://open.spotify.com/track/1DGYmHLYkwyCmvD...   \n",
       "40190   119168  https://open.spotify.com/track/4QVdnpSO5JGMFOE...   \n",
       "40191   114594  https://open.spotify.com/track/46pF1zFimM582ss...   \n",
       "40192   113779  https://open.spotify.com/track/2mOtx6P21hecOcP...   \n",
       "\n",
       "                         Date  Start Week    End Week                      ID  \\\n",
       "0      2020-10-23--2020-10-30  2020-10-23  2020-10-30  4eWeOwo0TB0vkdrUhy4zbM   \n",
       "1      2020-10-23--2020-10-30  2020-10-23  2020-10-30  3tjFYV6RSFtuktYl3ZtYcq   \n",
       "2      2020-10-16--2020-10-23  2020-10-16  2020-10-23  3tjFYV6RSFtuktYl3ZtYcq   \n",
       "3      2020-10-09--2020-10-16  2020-10-09  2020-10-16  3tjFYV6RSFtuktYl3ZtYcq   \n",
       "4      2020-10-02--2020-10-09  2020-10-02  2020-10-09  3tjFYV6RSFtuktYl3ZtYcq   \n",
       "...                       ...         ...         ...                     ...   \n",
       "40188  2016-12-23--2016-12-30  2016-12-23  2016-12-30  18g50kFt5uwVeCzQbrCvAO   \n",
       "40189  2016-12-23--2016-12-30  2016-12-23  2016-12-30  1DGYmHLYkwyCmvDEL3ctti   \n",
       "40190  2016-12-23--2016-12-30  2016-12-23  2016-12-30  4QVdnpSO5JGMFOEl6ys4RQ   \n",
       "40191  2016-12-23--2016-12-30  2016-12-23  2016-12-30  46pF1zFimM582ss1PrMy68   \n",
       "40192  2016-12-23--2016-12-30  2016-12-23  2016-12-30  2mOtx6P21hecOcPoVuZbzF   \n",
       "\n",
       "       danceability  ...  mode  speechiness  acousticness  instrumentalness  \\\n",
       "0             0.781  ...     1       0.1410         0.262          0.000000   \n",
       "1             0.700  ...     0       0.0369         0.221          0.000000   \n",
       "2             0.700  ...     0       0.0369         0.221          0.000000   \n",
       "3             0.700  ...     0       0.0369         0.221          0.000000   \n",
       "4             0.700  ...     0       0.0369         0.221          0.000000   \n",
       "...             ...  ...   ...          ...           ...               ...   \n",
       "40188         0.622  ...     0       0.0845         0.520          0.000000   \n",
       "40189         0.664  ...     1       0.0335         0.266          0.000031   \n",
       "40190         0.295  ...     1       0.0327         0.207          0.000396   \n",
       "40191         0.325  ...     1       0.0530         0.395          0.000362   \n",
       "40192         0.611  ...     1       0.0236         0.750          0.000000   \n",
       "\n",
       "       liveness  valence    tempo                      id  duration_ms  \\\n",
       "0        0.4280    0.879  159.981  4eWeOwo0TB0vkdrUhy4zbM       278000   \n",
       "1        0.2720    0.756   90.989  3tjFYV6RSFtuktYl3ZtYcq       140526   \n",
       "2        0.2720    0.756   90.989  3tjFYV6RSFtuktYl3ZtYcq       140526   \n",
       "3        0.2720    0.756   90.989  3tjFYV6RSFtuktYl3ZtYcq       140526   \n",
       "4        0.2720    0.756   90.989  3tjFYV6RSFtuktYl3ZtYcq       140526   \n",
       "...         ...      ...      ...                     ...          ...   \n",
       "40188    0.3750    0.766  140.561  18g50kFt5uwVeCzQbrCvAO       161973   \n",
       "40189    0.0762    0.330   80.969  1DGYmHLYkwyCmvDEL3ctti       242893   \n",
       "40190    0.8580    0.224  132.062  4QVdnpSO5JGMFOEl6ys4RQ       268521   \n",
       "40191    0.0773    0.360  126.627  46pF1zFimM582ss1PrMy68       166453   \n",
       "40192    0.1130    0.138   99.971  2mOtx6P21hecOcPoVuZbzF       217840   \n",
       "\n",
       "       time_signature  \n",
       "0                   4  \n",
       "1                   4  \n",
       "2                   4  \n",
       "3                   4  \n",
       "4                   4  \n",
       "...               ...  \n",
       "40188               4  \n",
       "40189               4  \n",
       "40190               4  \n",
       "40191               4  \n",
       "40192               4  \n",
       "\n",
       "[40193 rows x 23 columns]"
      ],
      "text/html": "<div>\n<style scoped>\n    .dataframe tbody tr th:only-of-type {\n        vertical-align: middle;\n    }\n\n    .dataframe tbody tr th {\n        vertical-align: top;\n    }\n\n    .dataframe thead th {\n        text-align: right;\n    }\n</style>\n<table border=\"1\" class=\"dataframe\">\n  <thead>\n    <tr style=\"text-align: right;\">\n      <th></th>\n      <th>Position</th>\n      <th>Track Name</th>\n      <th>Artist</th>\n      <th>Streams</th>\n      <th>URL</th>\n      <th>Date</th>\n      <th>Start Week</th>\n      <th>End Week</th>\n      <th>ID</th>\n      <th>danceability</th>\n      <th>...</th>\n      <th>mode</th>\n      <th>speechiness</th>\n      <th>acousticness</th>\n      <th>instrumentalness</th>\n      <th>liveness</th>\n      <th>valence</th>\n      <th>tempo</th>\n      <th>id</th>\n      <th>duration_ms</th>\n      <th>time_signature</th>\n    </tr>\n  </thead>\n  <tbody>\n    <tr>\n      <th>0</th>\n      <td>1</td>\n      <td>Scooter</td>\n      <td>Yssi SB</td>\n      <td>2375687</td>\n      <td>https://open.spotify.com/track/4eWeOwo0TB0vkdr...</td>\n      <td>2020-10-23--2020-10-30</td>\n      <td>2020-10-23</td>\n      <td>2020-10-30</td>\n      <td>4eWeOwo0TB0vkdrUhy4zbM</td>\n      <td>0.781</td>\n      <td>...</td>\n      <td>1</td>\n      <td>0.1410</td>\n      <td>0.262</td>\n      <td>0.000000</td>\n      <td>0.4280</td>\n      <td>0.879</td>\n      <td>159.981</td>\n      <td>4eWeOwo0TB0vkdrUhy4zbM</td>\n      <td>278000</td>\n      <td>4</td>\n    </tr>\n    <tr>\n      <th>1</th>\n      <td>2</td>\n      <td>Mood (feat. iann dior)</td>\n      <td>24kGoldn</td>\n      <td>1614485</td>\n      <td>https://open.spotify.com/track/3tjFYV6RSFtuktY...</td>\n      <td>2020-10-23--2020-10-30</td>\n      <td>2020-10-23</td>\n      <td>2020-10-30</td>\n      <td>3tjFYV6RSFtuktYl3ZtYcq</td>\n      <td>0.700</td>\n      <td>...</td>\n      <td>0</td>\n      <td>0.0369</td>\n      <td>0.221</td>\n      <td>0.000000</td>\n      <td>0.2720</td>\n      <td>0.756</td>\n      <td>90.989</td>\n      <td>3tjFYV6RSFtuktYl3ZtYcq</td>\n      <td>140526</td>\n      <td>4</td>\n    </tr>\n    <tr>\n      <th>2</th>\n      <td>1</td>\n      <td>Mood (feat. iann dior)</td>\n      <td>24kGoldn</td>\n      <td>1637451</td>\n      <td>https://open.spotify.com/track/3tjFYV6RSFtuktY...</td>\n      <td>2020-10-16--2020-10-23</td>\n      <td>2020-10-16</td>\n      <td>2020-10-23</td>\n      <td>3tjFYV6RSFtuktYl3ZtYcq</td>\n      <td>0.700</td>\n      <td>...</td>\n      <td>0</td>\n      <td>0.0369</td>\n      <td>0.221</td>\n      <td>0.000000</td>\n      <td>0.2720</td>\n      <td>0.756</td>\n      <td>90.989</td>\n      <td>3tjFYV6RSFtuktYl3ZtYcq</td>\n      <td>140526</td>\n      <td>4</td>\n    </tr>\n    <tr>\n      <th>3</th>\n      <td>1</td>\n      <td>Mood (feat. iann dior)</td>\n      <td>24kGoldn</td>\n      <td>1693876</td>\n      <td>https://open.spotify.com/track/3tjFYV6RSFtuktY...</td>\n      <td>2020-10-09--2020-10-16</td>\n      <td>2020-10-09</td>\n      <td>2020-10-16</td>\n      <td>3tjFYV6RSFtuktYl3ZtYcq</td>\n      <td>0.700</td>\n      <td>...</td>\n      <td>0</td>\n      <td>0.0369</td>\n      <td>0.221</td>\n      <td>0.000000</td>\n      <td>0.2720</td>\n      <td>0.756</td>\n      <td>90.989</td>\n      <td>3tjFYV6RSFtuktYl3ZtYcq</td>\n      <td>140526</td>\n      <td>4</td>\n    </tr>\n    <tr>\n      <th>4</th>\n      <td>1</td>\n      <td>Mood (feat. iann dior)</td>\n      <td>24kGoldn</td>\n      <td>1787537</td>\n      <td>https://open.spotify.com/track/3tjFYV6RSFtuktY...</td>\n      <td>2020-10-02--2020-10-09</td>\n      <td>2020-10-02</td>\n      <td>2020-10-09</td>\n      <td>3tjFYV6RSFtuktYl3ZtYcq</td>\n      <td>0.700</td>\n      <td>...</td>\n      <td>0</td>\n      <td>0.0369</td>\n      <td>0.221</td>\n      <td>0.000000</td>\n      <td>0.2720</td>\n      <td>0.756</td>\n      <td>90.989</td>\n      <td>3tjFYV6RSFtuktYl3ZtYcq</td>\n      <td>140526</td>\n      <td>4</td>\n    </tr>\n    <tr>\n      <th>...</th>\n      <td>...</td>\n      <td>...</td>\n      <td>...</td>\n      <td>...</td>\n      <td>...</td>\n      <td>...</td>\n      <td>...</td>\n      <td>...</td>\n      <td>...</td>\n      <td>...</td>\n      <td>...</td>\n      <td>...</td>\n      <td>...</td>\n      <td>...</td>\n      <td>...</td>\n      <td>...</td>\n      <td>...</td>\n      <td>...</td>\n      <td>...</td>\n      <td>...</td>\n      <td>...</td>\n    </tr>\n    <tr>\n      <th>40188</th>\n      <td>174</td>\n      <td>Man With The Bag</td>\n      <td>Jessie J</td>\n      <td>123048</td>\n      <td>https://open.spotify.com/track/18g50kFt5uwVeCz...</td>\n      <td>2016-12-23--2016-12-30</td>\n      <td>2016-12-23</td>\n      <td>2016-12-30</td>\n      <td>18g50kFt5uwVeCzQbrCvAO</td>\n      <td>0.622</td>\n      <td>...</td>\n      <td>0</td>\n      <td>0.0845</td>\n      <td>0.520</td>\n      <td>0.000000</td>\n      <td>0.3750</td>\n      <td>0.766</td>\n      <td>140.561</td>\n      <td>18g50kFt5uwVeCzQbrCvAO</td>\n      <td>161973</td>\n      <td>4</td>\n    </tr>\n    <tr>\n      <th>40189</th>\n      <td>176</td>\n      <td>Christmas Day</td>\n      <td>Dido</td>\n      <td>122741</td>\n      <td>https://open.spotify.com/track/1DGYmHLYkwyCmvD...</td>\n      <td>2016-12-23--2016-12-30</td>\n      <td>2016-12-23</td>\n      <td>2016-12-30</td>\n      <td>1DGYmHLYkwyCmvDEL3ctti</td>\n      <td>0.664</td>\n      <td>...</td>\n      <td>1</td>\n      <td>0.0335</td>\n      <td>0.266</td>\n      <td>0.000031</td>\n      <td>0.0762</td>\n      <td>0.330</td>\n      <td>80.969</td>\n      <td>1DGYmHLYkwyCmvDEL3ctti</td>\n      <td>242893</td>\n      <td>4</td>\n    </tr>\n    <tr>\n      <th>40190</th>\n      <td>182</td>\n      <td>Christmas Lights - Live from Spotify London</td>\n      <td>Coldplay</td>\n      <td>119168</td>\n      <td>https://open.spotify.com/track/4QVdnpSO5JGMFOE...</td>\n      <td>2016-12-23--2016-12-30</td>\n      <td>2016-12-23</td>\n      <td>2016-12-30</td>\n      <td>4QVdnpSO5JGMFOEl6ys4RQ</td>\n      <td>0.295</td>\n      <td>...</td>\n      <td>1</td>\n      <td>0.0327</td>\n      <td>0.207</td>\n      <td>0.000396</td>\n      <td>0.8580</td>\n      <td>0.224</td>\n      <td>132.062</td>\n      <td>4QVdnpSO5JGMFOEl6ys4RQ</td>\n      <td>268521</td>\n      <td>4</td>\n    </tr>\n    <tr>\n      <th>40191</th>\n      <td>195</td>\n      <td>Christmas (Baby Please Come Home)</td>\n      <td>Darlene Love</td>\n      <td>114594</td>\n      <td>https://open.spotify.com/track/46pF1zFimM582ss...</td>\n      <td>2016-12-23--2016-12-30</td>\n      <td>2016-12-23</td>\n      <td>2016-12-30</td>\n      <td>46pF1zFimM582ss1PrMy68</td>\n      <td>0.325</td>\n      <td>...</td>\n      <td>1</td>\n      <td>0.0530</td>\n      <td>0.395</td>\n      <td>0.000362</td>\n      <td>0.0773</td>\n      <td>0.360</td>\n      <td>126.627</td>\n      <td>46pF1zFimM582ss1PrMy68</td>\n      <td>166453</td>\n      <td>4</td>\n    </tr>\n    <tr>\n      <th>40192</th>\n      <td>198</td>\n      <td>Please Come Home for Christmas</td>\n      <td>Luther Vandross</td>\n      <td>113779</td>\n      <td>https://open.spotify.com/track/2mOtx6P21hecOcP...</td>\n      <td>2016-12-23--2016-12-30</td>\n      <td>2016-12-23</td>\n      <td>2016-12-30</td>\n      <td>2mOtx6P21hecOcPoVuZbzF</td>\n      <td>0.611</td>\n      <td>...</td>\n      <td>1</td>\n      <td>0.0236</td>\n      <td>0.750</td>\n      <td>0.000000</td>\n      <td>0.1130</td>\n      <td>0.138</td>\n      <td>99.971</td>\n      <td>2mOtx6P21hecOcPoVuZbzF</td>\n      <td>217840</td>\n      <td>4</td>\n    </tr>\n  </tbody>\n</table>\n<p>40193 rows × 23 columns</p>\n</div>"
     },
     "metadata": {},
     "execution_count": 122
    }
   ],
   "source": [
    "df_merge = pd.merge(df, features, left_on=\"ID\", right_on=\"id\", how=\"inner\")\n",
    "df_merge"
   ]
  },
  {
   "cell_type": "code",
   "execution_count": 123,
   "metadata": {},
   "outputs": [],
   "source": [
    "df_merge.to_csv(\"..\\\\data\\\\processed\\\\top200_2017_2020_w_features.csv\", index=False)"
   ]
  },
  {
   "source": [
    "## 3.\n",
    "## Data Visualization and Modelling"
   ],
   "cell_type": "markdown",
   "metadata": {}
  },
  {
   "cell_type": "code",
   "execution_count": 127,
   "metadata": {},
   "outputs": [
    {
     "output_type": "stream",
     "name": "stdout",
     "text": [
      "<class 'pandas.core.frame.DataFrame'>\nRangeIndex: 40193 entries, 0 to 40192\nData columns (total 23 columns):\n #   Column            Non-Null Count  Dtype         \n---  ------            --------------  -----         \n 0   Position          40193 non-null  int64         \n 1   Track Name        40193 non-null  object        \n 2   Artist            40193 non-null  object        \n 3   Streams           40193 non-null  int64         \n 4   URL               40193 non-null  object        \n 5   Date              40193 non-null  object        \n 6   Start Week        40193 non-null  datetime64[ns]\n 7   End Week          40193 non-null  datetime64[ns]\n 8   ID                40193 non-null  object        \n 9   danceability      40193 non-null  float64       \n 10  energy            40193 non-null  float64       \n 11  key               40193 non-null  int64         \n 12  loudness          40193 non-null  float64       \n 13  mode              40193 non-null  int64         \n 14  speechiness       40193 non-null  float64       \n 15  acousticness      40193 non-null  float64       \n 16  instrumentalness  40193 non-null  float64       \n 17  liveness          40193 non-null  float64       \n 18  valence           40193 non-null  float64       \n 19  tempo             40193 non-null  float64       \n 20  id                40193 non-null  object        \n 21  duration_ms       40193 non-null  int64         \n 22  time_signature    40193 non-null  int64         \ndtypes: datetime64[ns](2), float64(9), int64(6), object(6)\nmemory usage: 7.1+ MB\n"
     ]
    }
   ],
   "source": [
    "# Load the data and transform date-time columns\n",
    "df = pd.read_csv(\"..\\\\data\\\\processed\\\\top200_2017_2020_w_features.csv\")\n",
    "df[['Start Week', 'End Week']] = df[['Start Week', 'End Week']].apply(pd.to_datetime, format=\"%Y-%m-%d\")\n",
    "df.info()"
   ]
  },
  {
   "cell_type": "code",
   "execution_count": null,
   "metadata": {},
   "outputs": [],
   "source": []
  }
 ]
}