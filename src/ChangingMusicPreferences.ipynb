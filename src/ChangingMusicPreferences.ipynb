{
 "metadata": {
  "language_info": {
   "codemirror_mode": {
    "name": "ipython",
    "version": 3
   },
   "file_extension": ".py",
   "mimetype": "text/x-python",
   "name": "python",
   "nbconvert_exporter": "python",
   "pygments_lexer": "ipython3",
   "version": "3.8.5-final"
  },
  "orig_nbformat": 2,
  "kernelspec": {
   "name": "python3",
   "display_name": "Python 3"
  }
 },
 "nbformat": 4,
 "nbformat_minor": 2,
 "cells": [
  {
   "source": [
    "# Changing Music Preferences\n",
    "### Do Spotify users listen to different music during the COVID-19 pandemic? \n",
    "### Does this relate to the amount of confirmed cases?\n",
    "\n",
    "To Do: \n",
    "\n",
    "1. Scraping Spotify Top 200 data\n",
    "2. Get song metadata through Spotify API\n",
    "3. .....\n"
   ],
   "cell_type": "markdown",
   "metadata": {}
  },
  {
   "source": [
    "## 1.\n",
    "Scraping the Top 200 data for 2019 (baseline) and 2020 (pandemic).\n",
    "\n",
    "https://spotifycharts.com contains the official Spotify Charts. \n",
    "\n",
    "Luckily, each day/week is available as a .csv file!\n",
    "<br> <br> <br>\n",
    "**Goal: get all the weekly .csv files from 2019 and 2020 and combine them to one.**"
   ],
   "cell_type": "markdown",
   "metadata": {}
  },
  {
   "cell_type": "code",
   "execution_count": 55,
   "metadata": {},
   "outputs": [],
   "source": [
    "import pandas as pd\n",
    "import numpy as np\n",
    "from tqdm import tqdm\n",
    "import requests\n",
    "from bs4 import BeautifulSoup\n",
    "import io"
   ]
  },
  {
   "cell_type": "code",
   "execution_count": 5,
   "metadata": {},
   "outputs": [],
   "source": [
    "url = 'https://spotifycharts.com/regional/nl/weekly/latest'\n",
    "\n",
    "r = requests.get(url)\n",
    "\n",
    "soup = BeautifulSoup(r.content, 'html.parser')"
   ]
  },
  {
   "cell_type": "code",
   "execution_count": 21,
   "metadata": {},
   "outputs": [
    {
     "output_type": "execute_result",
     "data": {
      "text/plain": [
       "['2020-10-16--2020-10-23',\n",
       " '2020-10-09--2020-10-16',\n",
       " '2020-10-02--2020-10-09',\n",
       " '2020-09-25--2020-10-02',\n",
       " '2020-09-18--2020-09-25']"
      ]
     },
     "metadata": {},
     "execution_count": 21
    }
   ],
   "source": [
    "dates = [item[\"data-value\"] for item in soup.find_all(attrs={\"data-value\": True}) if item[\"data-value\"].startswith('2')]\n",
    "dates[:5]"
   ]
  },
  {
   "cell_type": "code",
   "execution_count": 34,
   "metadata": {},
   "outputs": [
    {
     "output_type": "execute_result",
     "data": {
      "text/plain": [
       "['https://spotifycharts.com/regional/nl/weekly/2020-10-16--2020-10-23/download',\n",
       " 'https://spotifycharts.com/regional/nl/weekly/2020-10-09--2020-10-16/download',\n",
       " 'https://spotifycharts.com/regional/nl/weekly/2020-10-02--2020-10-09/download',\n",
       " 'https://spotifycharts.com/regional/nl/weekly/2020-09-25--2020-10-02/download',\n",
       " 'https://spotifycharts.com/regional/nl/weekly/2020-09-18--2020-09-25/download']"
      ]
     },
     "metadata": {},
     "execution_count": 34
    }
   ],
   "source": [
    "urls = [\"https://spotifycharts.com/regional/nl/weekly/\" + date + \"/download\" for date in dates]\n",
    "urls[:5]"
   ]
  },
  {
   "source": [
    "### Warning: running the block below will result in scraping 200 .csv's!"
   ],
   "cell_type": "markdown",
   "metadata": {}
  },
  {
   "cell_type": "code",
   "execution_count": 60,
   "metadata": {},
   "outputs": [
    {
     "output_type": "stream",
     "name": "stderr",
     "text": [
      "100%|██████████| 200/200 [05:47<00:00,  1.74s/it]\n"
     ]
    }
   ],
   "source": [
    "data = []\n",
    "\n",
    "for date in tqdm(dates): \n",
    "    url = \"https://spotifycharts.com/regional/nl/weekly/\" + date + \"/download\"\n",
    "    response = requests.get(url)\n",
    "    file_object = io.StringIO(response.content.decode('utf-8'))\n",
    "    df = pd.read_csv(file_object, header=1)\n",
    "    df[\"Date\"] = date\n",
    "    data.append(df)\n",
    "\n",
    "df = pd.concat(data)\n",
    "df.reset_index(drop=True, inplace=True)\n",
    "df.to_csv(\"..\\\\data\\\\raw\\\\top200_2017_2020.csv\", index=False)\n",
    "data = []"
   ]
  },
  {
   "cell_type": "code",
   "execution_count": 112,
   "metadata": {},
   "outputs": [
    {
     "output_type": "execute_result",
     "data": {
      "text/plain": [
       "       Unnamed: 0  Position                                      Track Name  \\\n",
       "0               0         1                          Mood (feat. iann dior)   \n",
       "1               1         2       Lemonade (feat. Gunna, Don Toliver & NAV)   \n",
       "2               2         3                       Head & Heart (feat. MNEK)   \n",
       "3               3         4                  Holy (feat. Chance The Rapper)   \n",
       "4               4         5               Jerusalema (feat. Nomcebo Zikode)   \n",
       "...           ...       ...                                             ...   \n",
       "39995       39995       196                                             Sex   \n",
       "39996       39996       197                                  Ain't My Fault   \n",
       "39997       39997       198                  Please Come Home for Christmas   \n",
       "39998       39998       199  Jodge Me Niet - Titelsong Van De Film “SOOF 2”   \n",
       "39999       39999       200           Kom Dichterbij Me (met Broederliefde)   \n",
       "\n",
       "                Artist  Streams  \\\n",
       "0             24kGoldn  1637451   \n",
       "1       Internet Money  1421080   \n",
       "2           Joel Corry  1285202   \n",
       "3        Justin Bieber  1244608   \n",
       "4            Master KG  1173119   \n",
       "...                ...      ...   \n",
       "39995      Cheat Codes   114030   \n",
       "39996     Zara Larsson   113974   \n",
       "39997  Luther Vandross   113779   \n",
       "39998             Jayh   113763   \n",
       "39999         Jan Smit   113720   \n",
       "\n",
       "                                                     URL  \\\n",
       "0      https://open.spotify.com/track/3tjFYV6RSFtuktY...   \n",
       "1      https://open.spotify.com/track/7hxHWCCAIIxFLCz...   \n",
       "2      https://open.spotify.com/track/6cx06DFPPHchuUA...   \n",
       "3      https://open.spotify.com/track/5u1n1kITHCxxp8t...   \n",
       "4      https://open.spotify.com/track/2MlOUXmcofMackX...   \n",
       "...                                                  ...   \n",
       "39995  https://open.spotify.com/track/5DA77EqppDmCTWG...   \n",
       "39996  https://open.spotify.com/track/0ADG9OgdVTL7fgR...   \n",
       "39997  https://open.spotify.com/track/2mOtx6P21hecOcP...   \n",
       "39998  https://open.spotify.com/track/2VxAfqI3vIOaPSl...   \n",
       "39999  https://open.spotify.com/track/1QdKAO1nlkmECl3...   \n",
       "\n",
       "                         Date  \n",
       "0      2020-10-16--2020-10-23  \n",
       "1      2020-10-16--2020-10-23  \n",
       "2      2020-10-16--2020-10-23  \n",
       "3      2020-10-16--2020-10-23  \n",
       "4      2020-10-16--2020-10-23  \n",
       "...                       ...  \n",
       "39995  2016-12-23--2016-12-30  \n",
       "39996  2016-12-23--2016-12-30  \n",
       "39997  2016-12-23--2016-12-30  \n",
       "39998  2016-12-23--2016-12-30  \n",
       "39999  2016-12-23--2016-12-30  \n",
       "\n",
       "[40000 rows x 7 columns]"
      ],
      "text/html": "<div>\n<style scoped>\n    .dataframe tbody tr th:only-of-type {\n        vertical-align: middle;\n    }\n\n    .dataframe tbody tr th {\n        vertical-align: top;\n    }\n\n    .dataframe thead th {\n        text-align: right;\n    }\n</style>\n<table border=\"1\" class=\"dataframe\">\n  <thead>\n    <tr style=\"text-align: right;\">\n      <th></th>\n      <th>Unnamed: 0</th>\n      <th>Position</th>\n      <th>Track Name</th>\n      <th>Artist</th>\n      <th>Streams</th>\n      <th>URL</th>\n      <th>Date</th>\n    </tr>\n  </thead>\n  <tbody>\n    <tr>\n      <th>0</th>\n      <td>0</td>\n      <td>1</td>\n      <td>Mood (feat. iann dior)</td>\n      <td>24kGoldn</td>\n      <td>1637451</td>\n      <td>https://open.spotify.com/track/3tjFYV6RSFtuktY...</td>\n      <td>2020-10-16--2020-10-23</td>\n    </tr>\n    <tr>\n      <th>1</th>\n      <td>1</td>\n      <td>2</td>\n      <td>Lemonade (feat. Gunna, Don Toliver &amp; NAV)</td>\n      <td>Internet Money</td>\n      <td>1421080</td>\n      <td>https://open.spotify.com/track/7hxHWCCAIIxFLCz...</td>\n      <td>2020-10-16--2020-10-23</td>\n    </tr>\n    <tr>\n      <th>2</th>\n      <td>2</td>\n      <td>3</td>\n      <td>Head &amp; Heart (feat. MNEK)</td>\n      <td>Joel Corry</td>\n      <td>1285202</td>\n      <td>https://open.spotify.com/track/6cx06DFPPHchuUA...</td>\n      <td>2020-10-16--2020-10-23</td>\n    </tr>\n    <tr>\n      <th>3</th>\n      <td>3</td>\n      <td>4</td>\n      <td>Holy (feat. Chance The Rapper)</td>\n      <td>Justin Bieber</td>\n      <td>1244608</td>\n      <td>https://open.spotify.com/track/5u1n1kITHCxxp8t...</td>\n      <td>2020-10-16--2020-10-23</td>\n    </tr>\n    <tr>\n      <th>4</th>\n      <td>4</td>\n      <td>5</td>\n      <td>Jerusalema (feat. Nomcebo Zikode)</td>\n      <td>Master KG</td>\n      <td>1173119</td>\n      <td>https://open.spotify.com/track/2MlOUXmcofMackX...</td>\n      <td>2020-10-16--2020-10-23</td>\n    </tr>\n    <tr>\n      <th>...</th>\n      <td>...</td>\n      <td>...</td>\n      <td>...</td>\n      <td>...</td>\n      <td>...</td>\n      <td>...</td>\n      <td>...</td>\n    </tr>\n    <tr>\n      <th>39995</th>\n      <td>39995</td>\n      <td>196</td>\n      <td>Sex</td>\n      <td>Cheat Codes</td>\n      <td>114030</td>\n      <td>https://open.spotify.com/track/5DA77EqppDmCTWG...</td>\n      <td>2016-12-23--2016-12-30</td>\n    </tr>\n    <tr>\n      <th>39996</th>\n      <td>39996</td>\n      <td>197</td>\n      <td>Ain't My Fault</td>\n      <td>Zara Larsson</td>\n      <td>113974</td>\n      <td>https://open.spotify.com/track/0ADG9OgdVTL7fgR...</td>\n      <td>2016-12-23--2016-12-30</td>\n    </tr>\n    <tr>\n      <th>39997</th>\n      <td>39997</td>\n      <td>198</td>\n      <td>Please Come Home for Christmas</td>\n      <td>Luther Vandross</td>\n      <td>113779</td>\n      <td>https://open.spotify.com/track/2mOtx6P21hecOcP...</td>\n      <td>2016-12-23--2016-12-30</td>\n    </tr>\n    <tr>\n      <th>39998</th>\n      <td>39998</td>\n      <td>199</td>\n      <td>Jodge Me Niet - Titelsong Van De Film “SOOF 2”</td>\n      <td>Jayh</td>\n      <td>113763</td>\n      <td>https://open.spotify.com/track/2VxAfqI3vIOaPSl...</td>\n      <td>2016-12-23--2016-12-30</td>\n    </tr>\n    <tr>\n      <th>39999</th>\n      <td>39999</td>\n      <td>200</td>\n      <td>Kom Dichterbij Me (met Broederliefde)</td>\n      <td>Jan Smit</td>\n      <td>113720</td>\n      <td>https://open.spotify.com/track/1QdKAO1nlkmECl3...</td>\n      <td>2016-12-23--2016-12-30</td>\n    </tr>\n  </tbody>\n</table>\n<p>40000 rows × 7 columns</p>\n</div>"
     },
     "metadata": {},
     "execution_count": 112
    }
   ],
   "source": [
    "df = pd.read_csv(\"..\\\\data\\\\raw\\\\top200_2017_2020.csv\")\n",
    "df"
   ]
  },
  {
   "cell_type": "code",
   "execution_count": 83,
   "metadata": {},
   "outputs": [],
   "source": [
    "df.drop([\"Unnamed: 0\"], 1, inplace=True)"
   ]
  },
  {
   "cell_type": "code",
   "execution_count": 91,
   "metadata": {},
   "outputs": [],
   "source": [
    "df[['Start Week', 'End Week']] = df['Date'].str.split('--', 1, expand=True)\n",
    "df.to_csv(\"..\\\\data\\\\processed\\\\top200_2017_2020.csv\", index=False)"
   ]
  },
  {
   "cell_type": "code",
   "execution_count": 115,
   "metadata": {},
   "outputs": [
    {
     "output_type": "execute_result",
     "data": {
      "text/plain": [
       "   Position                                 Track Name          Artist  \\\n",
       "0         1                     Mood (feat. iann dior)        24kGoldn   \n",
       "1         2  Lemonade (feat. Gunna, Don Toliver & NAV)  Internet Money   \n",
       "2         3                  Head & Heart (feat. MNEK)      Joel Corry   \n",
       "3         4             Holy (feat. Chance The Rapper)   Justin Bieber   \n",
       "4         5          Jerusalema (feat. Nomcebo Zikode)       Master KG   \n",
       "\n",
       "   Streams                                                URL  \\\n",
       "0  1637451  https://open.spotify.com/track/3tjFYV6RSFtuktY...   \n",
       "1  1421080  https://open.spotify.com/track/7hxHWCCAIIxFLCz...   \n",
       "2  1285202  https://open.spotify.com/track/6cx06DFPPHchuUA...   \n",
       "3  1244608  https://open.spotify.com/track/5u1n1kITHCxxp8t...   \n",
       "4  1173119  https://open.spotify.com/track/2MlOUXmcofMackX...   \n",
       "\n",
       "                     Date Start Week   End Week  \n",
       "0  2020-10-16--2020-10-23 2020-10-16 2020-10-23  \n",
       "1  2020-10-16--2020-10-23 2020-10-16 2020-10-23  \n",
       "2  2020-10-16--2020-10-23 2020-10-16 2020-10-23  \n",
       "3  2020-10-16--2020-10-23 2020-10-16 2020-10-23  \n",
       "4  2020-10-16--2020-10-23 2020-10-16 2020-10-23  "
      ],
      "text/html": "<div>\n<style scoped>\n    .dataframe tbody tr th:only-of-type {\n        vertical-align: middle;\n    }\n\n    .dataframe tbody tr th {\n        vertical-align: top;\n    }\n\n    .dataframe thead th {\n        text-align: right;\n    }\n</style>\n<table border=\"1\" class=\"dataframe\">\n  <thead>\n    <tr style=\"text-align: right;\">\n      <th></th>\n      <th>Position</th>\n      <th>Track Name</th>\n      <th>Artist</th>\n      <th>Streams</th>\n      <th>URL</th>\n      <th>Date</th>\n      <th>Start Week</th>\n      <th>End Week</th>\n    </tr>\n  </thead>\n  <tbody>\n    <tr>\n      <th>0</th>\n      <td>1</td>\n      <td>Mood (feat. iann dior)</td>\n      <td>24kGoldn</td>\n      <td>1637451</td>\n      <td>https://open.spotify.com/track/3tjFYV6RSFtuktY...</td>\n      <td>2020-10-16--2020-10-23</td>\n      <td>2020-10-16</td>\n      <td>2020-10-23</td>\n    </tr>\n    <tr>\n      <th>1</th>\n      <td>2</td>\n      <td>Lemonade (feat. Gunna, Don Toliver &amp; NAV)</td>\n      <td>Internet Money</td>\n      <td>1421080</td>\n      <td>https://open.spotify.com/track/7hxHWCCAIIxFLCz...</td>\n      <td>2020-10-16--2020-10-23</td>\n      <td>2020-10-16</td>\n      <td>2020-10-23</td>\n    </tr>\n    <tr>\n      <th>2</th>\n      <td>3</td>\n      <td>Head &amp; Heart (feat. MNEK)</td>\n      <td>Joel Corry</td>\n      <td>1285202</td>\n      <td>https://open.spotify.com/track/6cx06DFPPHchuUA...</td>\n      <td>2020-10-16--2020-10-23</td>\n      <td>2020-10-16</td>\n      <td>2020-10-23</td>\n    </tr>\n    <tr>\n      <th>3</th>\n      <td>4</td>\n      <td>Holy (feat. Chance The Rapper)</td>\n      <td>Justin Bieber</td>\n      <td>1244608</td>\n      <td>https://open.spotify.com/track/5u1n1kITHCxxp8t...</td>\n      <td>2020-10-16--2020-10-23</td>\n      <td>2020-10-16</td>\n      <td>2020-10-23</td>\n    </tr>\n    <tr>\n      <th>4</th>\n      <td>5</td>\n      <td>Jerusalema (feat. Nomcebo Zikode)</td>\n      <td>Master KG</td>\n      <td>1173119</td>\n      <td>https://open.spotify.com/track/2MlOUXmcofMackX...</td>\n      <td>2020-10-16--2020-10-23</td>\n      <td>2020-10-16</td>\n      <td>2020-10-23</td>\n    </tr>\n  </tbody>\n</table>\n</div>"
     },
     "metadata": {},
     "execution_count": 115
    }
   ],
   "source": [
    "df = pd.read_csv(\"..\\\\data\\\\processed\\\\top200_2017_2020.csv\")\n",
    "df[['Start Week', 'End Week']] = df[['Start Week', 'End Week']].apply(pd.to_datetime, format=\"%Y-%m-%d\")\n",
    "df.head()"
   ]
  },
  {
   "cell_type": "code",
   "execution_count": null,
   "metadata": {},
   "outputs": [],
   "source": []
  }
 ]
}